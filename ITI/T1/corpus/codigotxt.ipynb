{
 "cells": [
  {
   "cell_type": "code",
   "execution_count": 1,
   "id": "9c5905e6",
   "metadata": {},
   "outputs": [
    {
     "name": "stderr",
     "output_type": "stream",
     "text": [
      "100%|███████████████████████████████████████████████████████████████████████| 15637070/15637070 [00:14<00:00, 1065478.08it/s]\n",
      "  2%|█                                                                        | 234755/15637070 [00:00<00:13, 1166623.90it/s]"
     ]
    },
    {
     "name": "stdout",
     "output_type": "stream",
     "text": [
      "K = 9\n",
      "tamanho: 15637070 -> 9157927\n"
     ]
    },
    {
     "name": "stderr",
     "output_type": "stream",
     "text": [
      "100%|███████████████████████████████████████████████████████████████████████| 15637070/15637070 [00:13<00:00, 1182891.09it/s]\n",
      "  1%|▌                                                                        | 115534/15637070 [00:00<00:13, 1149051.09it/s]"
     ]
    },
    {
     "name": "stdout",
     "output_type": "stream",
     "text": [
      "K = 10\n",
      "tamanho: 15637070 -> 7366437\n"
     ]
    },
    {
     "name": "stderr",
     "output_type": "stream",
     "text": [
      "100%|███████████████████████████████████████████████████████████████████████| 15637070/15637070 [00:12<00:00, 1224728.37it/s]\n",
      "  1%|▌                                                                        | 120166/15637070 [00:00<00:13, 1192946.49it/s]"
     ]
    },
    {
     "name": "stdout",
     "output_type": "stream",
     "text": [
      "K = 11\n",
      "tamanho: 15637070 -> 6136292\n"
     ]
    },
    {
     "name": "stderr",
     "output_type": "stream",
     "text": [
      "100%|███████████████████████████████████████████████████████████████████████| 15637070/15637070 [00:12<00:00, 1268753.16it/s]\n",
      "  1%|▌                                                                        | 119083/15637070 [00:00<00:13, 1180738.99it/s]"
     ]
    },
    {
     "name": "stdout",
     "output_type": "stream",
     "text": [
      "K = 12\n",
      "tamanho: 15637070 -> 5310933\n"
     ]
    },
    {
     "name": "stderr",
     "output_type": "stream",
     "text": [
      "100%|███████████████████████████████████████████████████████████████████████| 15637070/15637070 [00:12<00:00, 1292681.71it/s]\n",
      "  1%|▌                                                                        | 112595/15637070 [00:00<00:13, 1118095.11it/s]"
     ]
    },
    {
     "name": "stdout",
     "output_type": "stream",
     "text": [
      "K = 13\n",
      "tamanho: 15637070 -> 4701352\n"
     ]
    },
    {
     "name": "stderr",
     "output_type": "stream",
     "text": [
      "100%|███████████████████████████████████████████████████████████████████████| 15637070/15637070 [00:11<00:00, 1310142.44it/s]\n",
      "  1%|▌                                                                        | 111803/15637070 [00:00<00:13, 1110251.39it/s]"
     ]
    },
    {
     "name": "stdout",
     "output_type": "stream",
     "text": [
      "K = 14\n",
      "tamanho: 15637070 -> 4200288\n"
     ]
    },
    {
     "name": "stderr",
     "output_type": "stream",
     "text": [
      "100%|███████████████████████████████████████████████████████████████████████| 15637070/15637070 [00:11<00:00, 1307844.68it/s]\n",
      "  1%|▌                                                                        | 112487/15637070 [00:00<00:13, 1116676.31it/s]"
     ]
    },
    {
     "name": "stdout",
     "output_type": "stream",
     "text": [
      "K = 15\n",
      "tamanho: 15637070 -> 3765840\n"
     ]
    },
    {
     "name": "stderr",
     "output_type": "stream",
     "text": [
      "100%|███████████████████████████████████████████████████████████████████████| 15637070/15637070 [00:11<00:00, 1319818.66it/s]\n"
     ]
    },
    {
     "name": "stdout",
     "output_type": "stream",
     "text": [
      "K = 16\n",
      "tamanho: 15637070 -> 3395047\n"
     ]
    }
   ],
   "source": [
    "import time\n",
    "from tqdm import tqdm\n",
    "import struct\n",
    "\n",
    "#mensagembit = open(\"input.txt\", 'rb').read()\n",
    "#for i in range(0, len(mensagembit),2):\n",
    "#    print(str(mensagembit[i]),str(mensagembit[i+1]))\n",
    "#    print(chr(mensagembit[i]),chr(mensagembit[i+1]))\n",
    "#    arr = bytearray([mensagembit[i],mensagembit[i+1]])\n",
    "#    print(struct.unpack('H', arr))\n",
    "\n",
    "#mensagem = open(\"corpus16MB.txt\", \"r\", encoding='ISO-8859-1').read() #ANTES\n",
    "\n",
    "mensagem = open(\"corpus16MB.txt\", \"rb\").read()\n",
    "mensagem = mensagem.decode('ISO-8859-1')\n",
    "#print(len(mensagem))\n",
    "#print(mensagem.encode())\n",
    "\n",
    "rc = []\n",
    "rcIdeal = []\n",
    "tempo = []\n",
    "k = []\n",
    "for K in range(9,17):\n",
    "    \n",
    "    start = time.time()\n",
    "    dicionario = {}\n",
    "\n",
    "    for i in range(2**8):\n",
    "        dicionario[i.to_bytes(1, 'big')] = i\n",
    "\n",
    "    newValue = 256\n",
    "    comprimida = []\n",
    "    new = ''\n",
    "    old = ''\n",
    "\n",
    "    for letra in tqdm(mensagem):\n",
    "        new = old + letra\n",
    "        #print(new)\n",
    "        if new.encode('ISO-8859-1') not in dicionario: \n",
    "            if len(dicionario) < 2**K:\n",
    "                dicionario[new.encode('ISO-8859-1')] = newValue\n",
    "                newValue += 1\n",
    "            \n",
    "            numCod = dicionario[old.encode('ISO-8859-1')]\n",
    "            #print(numCod, ' -> ', chr(numCod))\n",
    "            #print()\n",
    "            comprimida.append(numCod)\n",
    "            \n",
    "            old = letra\n",
    "        else:\n",
    "            old = new\n",
    "\n",
    "    numCod = dicionario[old.encode('ISO-8859-1')]\n",
    "    comprimida.append(numCod)\n",
    "    \n",
    "    end = time.time()\n",
    "    \n",
    "    outFile = open(\"intermediarios\\intermediarioK\" + str(K) + \".txt\" , \"wb\")\n",
    "    #print(comprimida)\n",
    "    for i in comprimida:\n",
    "        #print(chr(i))\n",
    "        outFile.write(struct.pack('H', i))\n",
    "        \n",
    "    print('K = %d' %K)\n",
    "    print('tamanho: %d -> %d' %(len(mensagem),len(comprimida)))\n",
    "    CM = len(comprimida) * 16 / len(mensagem)\n",
    "    rc.append(8/CM) \n",
    "    CM = len(comprimida) * K / len(mensagem)\n",
    "    rcIdeal.append(8/CM) \n",
    "    #print('RC: %f' % (8/CM))\n",
    "    tempo.append(end-start)\n",
    "    #print('tempo %f segundos\\n' % (end-start))\n",
    "    \n",
    "    outFile.close()\n",
    "\n",
    "    k.append(K)\n"
   ]
  },
  {
   "cell_type": "code",
   "execution_count": 2,
   "id": "b1146421",
   "metadata": {},
   "outputs": [
    {
     "data": {
      "image/png": "[encoded data removed]",
      "text/plain": [
       "<Figure size 432x288 with 1 Axes>"
      ]
     },
     "metadata": {
      "needs_background": "light"
     },
     "output_type": "display_data"
    }
   ],
   "source": [
    "#GRÁFICO COM RC REAL#####################################\n",
    "\n",
    "import matplotlib.pyplot as plt\n",
    "import matplotlib.ticker as ticker\n",
    "\n",
    "fig, ax = plt.subplots()\n",
    "\n",
    "ax.plot(k, rc, 'go-', linewidth=2, markersize=8)\n",
    "ax.xaxis.set_major_locator(ticker.MultipleLocator(1))\n",
    "ax.set(xlabel='K', ylabel='RC', title='Gráfico da Razão de Compressão Real pelo K')\n",
    "ax.grid()\n",
    "\n",
    "# fig.savefig(\"test.png\")\n",
    "plt.show()"
   ]
  },
  {
   "cell_type": "code",
   "execution_count": 3,
   "id": "9434e8d4",
   "metadata": {},
   "outputs": [
    {
     "data": {
      "image/png": "[encoded data removed]",
      "text/plain": [
       "<Figure size 432x288 with 1 Axes>"
      ]
     },
     "metadata": {
      "needs_background": "light"
     },
     "output_type": "display_data"
    }
   ],
   "source": [
    "#GRÁFICO DO RC IDEAL###########################\n",
    "\n",
    "import matplotlib.pyplot as plt\n",
    "import matplotlib.ticker as ticker\n",
    "\n",
    "fig, ax = plt.subplots()\n",
    "\n",
    "ax.plot(k, rcIdeal, 'go-', linewidth=2, markersize=8)\n",
    "ax.xaxis.set_major_locator(ticker.MultipleLocator(1))\n",
    "ax.set(xlabel='K', ylabel='RC', title='Gráfico da Razão de Compressão Ideal pelo K')\n",
    "ax.grid()\n",
    "\n",
    "# fig.savefig(\"test.png\")\n",
    "plt.show()"
   ]
  },
  {
   "cell_type": "code",
   "execution_count": 4,
   "id": "10649d17",
   "metadata": {},
   "outputs": [
    {
     "data": {
      "image/png": "[encoded data removed]",
      "text/plain": [
       "<Figure size 432x288 with 1 Axes>"
      ]
     },
     "metadata": {
      "needs_background": "light"
     },
     "output_type": "display_data"
    }
   ],
   "source": [
    "fig, bx = plt.subplots()\n",
    "\n",
    "bx.plot(k, tempo, 'go-', linewidth=2, markersize=8)\n",
    "bx.xaxis.set_major_locator(ticker.MultipleLocator(1))\n",
    "bx.set(xlabel='K', ylabel='Tempo em segundos', title='Gráfico do tempo pelo K')\n",
    "bx.grid()\n",
    "\n",
    "plt.show()\n"
   ]
  },
  {
   "cell_type": "code",
   "execution_count": 5,
   "id": "0d94f1f1",
   "metadata": {},
   "outputs": [
    {
     "name": "stderr",
     "output_type": "stream",
     "text": [
      "100%|██████████████████████████████████████████████████████████████████████████| 9157927/9157927 [00:19<00:00, 470241.41it/s]\n"
     ]
    },
    {
     "name": "stdout",
     "output_type": "stream",
     "text": [
      "K = 9\n",
      "tamanho: 9157927 -> 15637070\n",
      "tempo 19.474948 segundos\n",
      "\n"
     ]
    },
    {
     "name": "stderr",
     "output_type": "stream",
     "text": [
      "100%|██████████████████████████████████████████████████████████████████████████| 7366437/7366437 [00:17<00:00, 412328.38it/s]\n"
     ]
    },
    {
     "name": "stdout",
     "output_type": "stream",
     "text": [
      "K = 10\n",
      "tamanho: 7366437 -> 15637070\n",
      "tempo 17.868423 segundos\n",
      "\n"
     ]
    },
    {
     "name": "stderr",
     "output_type": "stream",
     "text": [
      "100%|██████████████████████████████████████████████████████████████████████████| 6136292/6136292 [00:17<00:00, 358075.20it/s]\n"
     ]
    },
    {
     "name": "stdout",
     "output_type": "stream",
     "text": [
      "K = 11\n",
      "tamanho: 6136292 -> 15637070\n",
      "tempo 17.138875 segundos\n",
      "\n"
     ]
    },
    {
     "name": "stderr",
     "output_type": "stream",
     "text": [
      "100%|██████████████████████████████████████████████████████████████████████████| 5310933/5310933 [00:16<00:00, 328103.39it/s]\n"
     ]
    },
    {
     "name": "stdout",
     "output_type": "stream",
     "text": [
      "K = 12\n",
      "tamanho: 5310933 -> 15637070\n",
      "tempo 16.187764 segundos\n",
      "\n"
     ]
    },
    {
     "name": "stderr",
     "output_type": "stream",
     "text": [
      "100%|██████████████████████████████████████████████████████████████████████████| 4701352/4701352 [00:16<00:00, 292607.98it/s]\n"
     ]
    },
    {
     "name": "stdout",
     "output_type": "stream",
     "text": [
      "K = 13\n",
      "tamanho: 4701352 -> 15637070\n",
      "tempo 16.071058 segundos\n",
      "\n"
     ]
    },
    {
     "name": "stderr",
     "output_type": "stream",
     "text": [
      "100%|██████████████████████████████████████████████████████████████████████████| 4200288/4200288 [00:15<00:00, 273218.75it/s]\n"
     ]
    },
    {
     "name": "stdout",
     "output_type": "stream",
     "text": [
      "K = 14\n",
      "tamanho: 4200288 -> 15637070\n",
      "tempo 15.375352 segundos\n",
      "\n"
     ]
    },
    {
     "name": "stderr",
     "output_type": "stream",
     "text": [
      "100%|██████████████████████████████████████████████████████████████████████████| 3765840/3765840 [00:15<00:00, 242725.45it/s]\n"
     ]
    },
    {
     "name": "stdout",
     "output_type": "stream",
     "text": [
      "K = 15\n",
      "tamanho: 3765840 -> 15637070\n",
      "tempo 15.516809 segundos\n",
      "\n"
     ]
    },
    {
     "name": "stderr",
     "output_type": "stream",
     "text": [
      "100%|██████████████████████████████████████████████████████████████████████████| 3395047/3395047 [00:15<00:00, 213499.21it/s]\n"
     ]
    },
    {
     "name": "stdout",
     "output_type": "stream",
     "text": [
      "K = 16\n",
      "tamanho: 3395047 -> 15637070\n",
      "tempo 15.904884 segundos\n",
      "\n"
     ]
    }
   ],
   "source": [
    "import time\n",
    "from tqdm import tqdm\n",
    "import struct\n",
    "\n",
    "for K in range(9,17):\n",
    "    mensagem2 = open(\"intermediarios\\intermediarioK\" + str(K) + \".txt\", \"rb\").read()\n",
    "    #print(mensagem)\n",
    "    mensagemInt = []\n",
    "    for i in range(0,len(mensagem2),2):\n",
    "        #print(str(mensagem[i]),str(mensagem[i+1]))\n",
    "        #print(chr(mensagem[i]),chr(mensagem[i+1]))\n",
    "        arr = bytearray([mensagem2[i],mensagem2[i+1]])\n",
    "        #print(struct.unpack('H', arr))\n",
    "        #if len(struct.unpack('H', arr)) > 1:\n",
    "        #    print('letra: ',chr(struct.unpack('H', arr)[0]), ' e ', chr(struct.unpack('H', arr)[1]))\n",
    "        #else:\n",
    "        #    print('letra: ',chr(struct.unpack('H', arr)[0]))\n",
    "        #print(struct.unpack('B', i.to_bytes(1,'big')))\n",
    "        mensagemInt.append(struct.unpack('H', arr)[0])\n",
    "    \n",
    "    dicionario = {}\n",
    "\n",
    "    for i in range(2**8):\n",
    "        dicionario[i] = chr(i)  #string\n",
    "\n",
    "    newKey = 256\n",
    "\n",
    "    start = time.time()\n",
    "    descomprimida = ''\n",
    "    for i in tqdm(mensagemInt):\n",
    "        #print('decodificando:', i, ' -> ', chr(i))\n",
    "        if len(dicionario) <= 2**K:\n",
    "            if newKey > 256:   #atualizar elemento anterior do dicionario\n",
    "                dicionario[newKey-1] += dicionario[i][0]\n",
    "        #print(dicionario[i])\n",
    "        #print()\n",
    "        descomprimida += dicionario[i]\n",
    "        dicionario[newKey] = dicionario[i]  #criar elemento atual do dicionario\n",
    "        newKey += 1\n",
    "\n",
    "    #print(descomprimida.encode('ISO-8859-1'))\n",
    "    end = time.time()\n",
    "\n",
    "    outFile = open(\"saidas\\saidaK\" + str(K) + \".txt\" , \"wb\")\n",
    "    for i in descomprimida:\n",
    "        outFile.write(struct.pack('B', ord(i)))\n",
    "\n",
    "    print('K = %d' %K)\n",
    "    print('tamanho: %d -> %d' %(len(mensagemInt),len(descomprimida)))\n",
    "\n",
    "    tempo.append(end-start)\n",
    "    print('tempo %f segundos\\n' % (end-start))\n",
    "\n",
    "    outFile.close()\n"
   ]
  },
  {
   "cell_type": "code",
   "execution_count": 6,
   "id": "48c7fdab",
   "metadata": {},
   "outputs": [
    {
     "data": {
      "text/plain": [
       "True"
      ]
     },
     "execution_count": 6,
     "metadata": {},
     "output_type": "execute_result"
    }
   ],
   "source": [
    "import filecmp\n",
    "filecmp.cmp('corpus16MB.txt', \"saidas\\saidaK9.txt\")\n"
   ]
  },
  {
   "cell_type": "code",
   "execution_count": null,
   "id": "2fb9ddad",
   "metadata": {},
   "outputs": [],
   "source": []
  },
  {
   "cell_type": "code",
   "execution_count": null,
   "id": "f23f8b9f",
   "metadata": {},
   "outputs": [],
   "source": []
  },
  {
   "cell_type": "code",
   "execution_count": null,
   "id": "ed23c953",
   "metadata": {},
   "outputs": [],
   "source": []
  }
 ],
 "metadata": {
  "kernelspec": {
   "display_name": "Python 3",
   "language": "python",
   "name": "python3"
  },
  "language_info": {
   "codemirror_mode": {
    "name": "ipython",
    "version": 3
   },
   "file_extension": ".py",
   "mimetype": "text/x-python",
   "name": "python",
   "nbconvert_exporter": "python",
   "pygments_lexer": "ipython3",
   "version": "3.8.8"
  }
 },
 "nbformat": 4,
 "nbformat_minor": 5
}
