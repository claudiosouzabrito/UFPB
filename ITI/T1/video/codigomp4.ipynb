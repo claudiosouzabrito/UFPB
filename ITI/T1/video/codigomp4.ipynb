{
 "cells": [
  {
   "cell_type": "code",
   "execution_count": 1,
   "id": "9c5905e6",
   "metadata": {},
   "outputs": [
    {
     "name": "stderr",
     "output_type": "stream",
     "text": [
      "100%|██████████████████████████████████████████████████████████████████████████| 2111047/2111047 [00:02<00:00, 785824.10it/s]\n",
      "  4%|███                                                                         | 86484/2111047 [00:00<00:02, 858568.85it/s]"
     ]
    },
    {
     "name": "stdout",
     "output_type": "stream",
     "text": [
      "K = 9\n",
      "tamanho: 2111047 -> 2097699\n"
     ]
    },
    {
     "name": "stderr",
     "output_type": "stream",
     "text": [
      "100%|██████████████████████████████████████████████████████████████████████████| 2111047/2111047 [00:02<00:00, 842906.26it/s]\n",
      "  4%|██▉                                                                         | 83013/2111047 [00:00<00:02, 824096.88it/s]"
     ]
    },
    {
     "name": "stdout",
     "output_type": "stream",
     "text": [
      "K = 10\n",
      "tamanho: 2111047 -> 2090702\n"
     ]
    },
    {
     "name": "stderr",
     "output_type": "stream",
     "text": [
      "100%|██████████████████████████████████████████████████████████████████████████| 2111047/2111047 [00:02<00:00, 805108.77it/s]\n",
      "  4%|███                                                                         | 85277/2111047 [00:00<00:02, 850746.53it/s]"
     ]
    },
    {
     "name": "stdout",
     "output_type": "stream",
     "text": [
      "K = 11\n",
      "tamanho: 2111047 -> 2081530\n"
     ]
    },
    {
     "name": "stderr",
     "output_type": "stream",
     "text": [
      "100%|██████████████████████████████████████████████████████████████████████████| 2111047/2111047 [00:02<00:00, 816415.93it/s]\n",
      "  4%|███                                                                         | 85813/2111047 [00:00<00:02, 851303.02it/s]"
     ]
    },
    {
     "name": "stdout",
     "output_type": "stream",
     "text": [
      "K = 12\n",
      "tamanho: 2111047 -> 2069378\n"
     ]
    },
    {
     "name": "stderr",
     "output_type": "stream",
     "text": [
      "100%|██████████████████████████████████████████████████████████████████████████| 2111047/2111047 [00:02<00:00, 876630.66it/s]\n",
      "  9%|██████▌                                                                    | 183905/2111047 [00:00<00:02, 919133.43it/s]"
     ]
    },
    {
     "name": "stdout",
     "output_type": "stream",
     "text": [
      "K = 13\n",
      "tamanho: 2111047 -> 1959288\n"
     ]
    },
    {
     "name": "stderr",
     "output_type": "stream",
     "text": [
      "100%|██████████████████████████████████████████████████████████████████████████| 2111047/2111047 [00:02<00:00, 901085.45it/s]\n",
      "  4%|██▉                                                                         | 83229/2111047 [00:00<00:02, 826268.57it/s]"
     ]
    },
    {
     "name": "stdout",
     "output_type": "stream",
     "text": [
      "K = 14\n",
      "tamanho: 2111047 -> 1772621\n"
     ]
    },
    {
     "name": "stderr",
     "output_type": "stream",
     "text": [
      "100%|██████████████████████████████████████████████████████████████████████████| 2111047/2111047 [00:02<00:00, 919241.47it/s]\n",
      "  4%|██▋                                                                         | 75377/2111047 [00:00<00:02, 748171.43it/s]"
     ]
    },
    {
     "name": "stdout",
     "output_type": "stream",
     "text": [
      "K = 15\n",
      "tamanho: 2111047 -> 1520385\n"
     ]
    },
    {
     "name": "stderr",
     "output_type": "stream",
     "text": [
      "100%|██████████████████████████████████████████████████████████████████████████| 2111047/2111047 [00:02<00:00, 933325.57it/s]\n"
     ]
    },
    {
     "name": "stdout",
     "output_type": "stream",
     "text": [
      "K = 16\n",
      "tamanho: 2111047 -> 1289578\n"
     ]
    }
   ],
   "source": [
    "import time\n",
    "from tqdm import tqdm\n",
    "import struct\n",
    "\n",
    "#mensagembit = open(\"input.txt\", 'rb').read()\n",
    "#for i in range(0, len(mensagembit),2):\n",
    "#    print(str(mensagembit[i]),str(mensagembit[i+1]))\n",
    "#    print(chr(mensagembit[i]),chr(mensagembit[i+1]))\n",
    "#    arr = bytearray([mensagembit[i],mensagembit[i+1]])\n",
    "#    print(struct.unpack('H', arr))\n",
    "mensagem = open(\"Disco Rígido Funcionando aberto.mp4\", \"rb\").read()\n",
    "mensagem = mensagem.decode('ISO-8859-1')\n",
    "#print(mensagem)\n",
    "#print(len(mensagem))\n",
    "\n",
    "rc = []\n",
    "rcIdeal = []\n",
    "tempo = []\n",
    "k = []\n",
    "for K in range(9,17):\n",
    "    \n",
    "    start = time.time()\n",
    "    dicionario = {}\n",
    "\n",
    "    for i in range(2**8):\n",
    "        dicionario[i.to_bytes(1, 'big')] = i\n",
    "\n",
    "    newValue = 256\n",
    "    comprimida = []\n",
    "    new = ''\n",
    "    old = ''\n",
    "\n",
    "    for letra in tqdm(mensagem):\n",
    "        new = old + letra\n",
    "        #print(new)\n",
    "        if new.encode('ISO-8859-1') not in dicionario: \n",
    "            if len(dicionario) < 2**K:\n",
    "                dicionario[new.encode('ISO-8859-1')] = newValue\n",
    "                newValue += 1\n",
    "            \n",
    "            numCod = dicionario[old.encode('ISO-8859-1')]\n",
    "            #print(numCod, ' -> ', chr(numCod))\n",
    "            #print()\n",
    "            comprimida.append(numCod)\n",
    "            \n",
    "            old = letra\n",
    "        else:\n",
    "            old = new\n",
    "\n",
    "    numCod = dicionario[old.encode('ISO-8859-1')]\n",
    "    comprimida.append(numCod)\n",
    "    \n",
    "    end = time.time()\n",
    "    \n",
    "    outFile = open(\"intermediarios\\intermediarioK\" + str(K) + \".txt\" , \"wb\")\n",
    "    #print(comprimida)\n",
    "    for i in comprimida:\n",
    "        #print(chr(i))\n",
    "        outFile.write(struct.pack('H', i))\n",
    "        \n",
    "    print('K = %d' %K)\n",
    "    print('tamanho: %d -> %d' %(len(mensagem),len(comprimida)))\n",
    "    CM = len(comprimida) * 16 / len(mensagem)\n",
    "    rc.append(8/CM) \n",
    "    CM = len(comprimida) * K / len(mensagem)\n",
    "    rcIdeal.append(8/CM) \n",
    "    #print('RC: %f' % (8/CM))\n",
    "    tempo.append(end-start)\n",
    "    #print('tempo %f segundos\\n' % (end-start))\n",
    "    \n",
    "    outFile.close()\n",
    "\n",
    "    k.append(K)\n"
   ]
  },
  {
   "cell_type": "code",
   "execution_count": 2,
   "id": "b1146421",
   "metadata": {},
   "outputs": [
    {
     "data": {
      "image/png": "[encoded data removed]",
      "text/plain": [
       "<Figure size 432x288 with 1 Axes>"
      ]
     },
     "metadata": {
      "needs_background": "light"
     },
     "output_type": "display_data"
    }
   ],
   "source": [
    "#GRÁFICOS COM RC REAIS#######################################\n",
    "\n",
    "import matplotlib.pyplot as plt\n",
    "import matplotlib.ticker as ticker\n",
    "\n",
    "fig, ax = plt.subplots()\n",
    "\n",
    "ax.plot(k, rc, 'go-', linewidth=2, markersize=8)\n",
    "ax.xaxis.set_major_locator(ticker.MultipleLocator(1))\n",
    "ax.set(xlabel='K', ylabel='RC', title='Gráfico da Razão de Compressão Real pelo K')\n",
    "ax.grid()\n",
    "\n",
    "# fig.savefig(\"test.png\")\n",
    "plt.show()"
   ]
  },
  {
   "cell_type": "code",
   "execution_count": 3,
   "id": "5275fb6d",
   "metadata": {},
   "outputs": [
    {
     "data": {
      "image/png": "[encoded data removed]",
      "text/plain": [
       "<Figure size 432x288 with 1 Axes>"
      ]
     },
     "metadata": {
      "needs_background": "light"
     },
     "output_type": "display_data"
    }
   ],
   "source": [
    "#GRÁFICOS COM RC IDEIAS#######################################\n",
    "\n",
    "import matplotlib.pyplot as plt\n",
    "import matplotlib.ticker as ticker\n",
    "\n",
    "fig, ax = plt.subplots()\n",
    "\n",
    "ax.plot(k, rcIdeal, 'go-', linewidth=2, markersize=8)\n",
    "ax.xaxis.set_major_locator(ticker.MultipleLocator(1))\n",
    "ax.set(xlabel='K', ylabel='RC', title='Gráfico da Razão de Compressão Ideal pelo K')\n",
    "ax.grid()\n",
    "\n",
    "# fig.savefig(\"test.png\")\n",
    "plt.show()"
   ]
  },
  {
   "cell_type": "code",
   "execution_count": 4,
   "id": "10649d17",
   "metadata": {},
   "outputs": [
    {
     "data": {
      "image/png": "[encoded data removed]",
      "text/plain": [
       "<Figure size 432x288 with 1 Axes>"
      ]
     },
     "metadata": {
      "needs_background": "light"
     },
     "output_type": "display_data"
    }
   ],
   "source": [
    "fig, bx = plt.subplots()\n",
    "\n",
    "bx.plot(k, tempo, 'go-', linewidth=2, markersize=8)\n",
    "bx.xaxis.set_major_locator(ticker.MultipleLocator(1))\n",
    "bx.set(xlabel='K', ylabel='Tempo em segundos', title='Gráfico do tempo pelo K')\n",
    "bx.grid()\n",
    "\n",
    "plt.show()\n"
   ]
  },
  {
   "cell_type": "code",
   "execution_count": 5,
   "id": "0d94f1f1",
   "metadata": {},
   "outputs": [
    {
     "name": "stderr",
     "output_type": "stream",
     "text": [
      "100%|█████████████████████████████████████████████████████████████████████████| 2097699/2097699 [00:02<00:00, 1010385.72it/s]\n"
     ]
    },
    {
     "name": "stdout",
     "output_type": "stream",
     "text": [
      "K = 9\n",
      "tamanho: 2097699 -> 2111047\n",
      "tempo 2.077103 segundos\n",
      "\n"
     ]
    },
    {
     "name": "stderr",
     "output_type": "stream",
     "text": [
      "100%|██████████████████████████████████████████████████████████████████████████| 2090702/2090702 [00:02<00:00, 992321.15it/s]\n"
     ]
    },
    {
     "name": "stdout",
     "output_type": "stream",
     "text": [
      "K = 10\n",
      "tamanho: 2090702 -> 2111047\n",
      "tempo 2.108844 segundos\n",
      "\n"
     ]
    },
    {
     "name": "stderr",
     "output_type": "stream",
     "text": [
      "100%|██████████████████████████████████████████████████████████████████████████| 2081530/2081530 [00:02<00:00, 979893.58it/s]\n"
     ]
    },
    {
     "name": "stdout",
     "output_type": "stream",
     "text": [
      "K = 11\n",
      "tamanho: 2081530 -> 2111047\n",
      "tempo 2.126207 segundos\n",
      "\n"
     ]
    },
    {
     "name": "stderr",
     "output_type": "stream",
     "text": [
      "100%|█████████████████████████████████████████████████████████████████████████| 2069378/2069378 [00:02<00:00, 1003674.15it/s]\n"
     ]
    },
    {
     "name": "stdout",
     "output_type": "stream",
     "text": [
      "K = 12\n",
      "tamanho: 2069378 -> 2111047\n",
      "tempo 2.063736 segundos\n",
      "\n"
     ]
    },
    {
     "name": "stderr",
     "output_type": "stream",
     "text": [
      "100%|██████████████████████████████████████████████████████████████████████████| 1959288/1959288 [00:02<00:00, 966783.76it/s]\n"
     ]
    },
    {
     "name": "stdout",
     "output_type": "stream",
     "text": [
      "K = 13\n",
      "tamanho: 1959288 -> 2111047\n",
      "tempo 2.027599 segundos\n",
      "\n"
     ]
    },
    {
     "name": "stderr",
     "output_type": "stream",
     "text": [
      "100%|██████████████████████████████████████████████████████████████████████████| 1772621/1772621 [00:01<00:00, 952048.50it/s]\n"
     ]
    },
    {
     "name": "stdout",
     "output_type": "stream",
     "text": [
      "K = 14\n",
      "tamanho: 1772621 -> 2111047\n",
      "tempo 1.863897 segundos\n",
      "\n"
     ]
    },
    {
     "name": "stderr",
     "output_type": "stream",
     "text": [
      "100%|██████████████████████████████████████████████████████████████████████████| 1520385/1520385 [00:01<00:00, 882970.13it/s]\n"
     ]
    },
    {
     "name": "stdout",
     "output_type": "stream",
     "text": [
      "K = 15\n",
      "tamanho: 1520385 -> 2111047\n",
      "tempo 1.723887 segundos\n",
      "\n"
     ]
    },
    {
     "name": "stderr",
     "output_type": "stream",
     "text": [
      "100%|██████████████████████████████████████████████████████████████████████████| 1289578/1289578 [00:01<00:00, 815711.80it/s]\n"
     ]
    },
    {
     "name": "stdout",
     "output_type": "stream",
     "text": [
      "K = 16\n",
      "tamanho: 1289578 -> 2111047\n",
      "tempo 1.582890 segundos\n",
      "\n"
     ]
    }
   ],
   "source": [
    "import time\n",
    "from tqdm import tqdm\n",
    "import struct\n",
    "\n",
    "for K in range(9,17):\n",
    "    mensagem2 = open(\"intermediarios\\intermediarioK\" + str(K) + \".txt\", \"rb\").read()\n",
    "    #print(mensagem)\n",
    "    mensagemInt = []\n",
    "    for i in range(0,len(mensagem2),2):\n",
    "        #print(str(mensagem[i]),str(mensagem[i+1]))\n",
    "        #print(chr(mensagem[i]),chr(mensagem[i+1]))\n",
    "        arr = bytearray([mensagem2[i],mensagem2[i+1]])\n",
    "        #print(struct.unpack('H', arr))\n",
    "        #if len(struct.unpack('H', arr)) > 1:\n",
    "        #    print('letra: ',chr(struct.unpack('H', arr)[0]), ' e ', chr(struct.unpack('H', arr)[1]))\n",
    "        #else:\n",
    "        #    print('letra: ',chr(struct.unpack('H', arr)[0]))\n",
    "        #print(struct.unpack('B', i.to_bytes(1,'big')))\n",
    "        mensagemInt.append(struct.unpack('H', arr)[0])\n",
    "    \n",
    "    dicionario = {}\n",
    "\n",
    "    for i in range(2**8):\n",
    "        dicionario[i] = chr(i)  #string\n",
    "\n",
    "    newKey = 256\n",
    "\n",
    "    start = time.time()\n",
    "    descomprimida = ''\n",
    "    for i in tqdm(mensagemInt):\n",
    "        #print('decodificando:', i, ' -> ', chr(i))\n",
    "        if len(dicionario) <= 2**K:\n",
    "            if newKey > 256:   #atualizar elemento anterior do dicionario\n",
    "                dicionario[newKey-1] += dicionario[i][0]\n",
    "        #print(dicionario[i])\n",
    "        #print()\n",
    "        descomprimida += dicionario[i]\n",
    "        dicionario[newKey] = dicionario[i]  #criar elemento atual do dicionario\n",
    "        newKey += 1\n",
    "\n",
    "    #print(descomprimida.encode('ISO-8859-1'))\n",
    "    end = time.time()\n",
    "\n",
    "    outFile = open(\"saidas\\saidaK\" + str(K) + \".mp4\" , \"wb\")\n",
    "    for i in descomprimida:\n",
    "        outFile.write(struct.pack('B', ord(i)))\n",
    "\n",
    "    print('K = %d' %K)\n",
    "    print('tamanho: %d -> %d' %(len(mensagemInt),len(descomprimida)))\n",
    "\n",
    "    tempo.append(end-start)\n",
    "    print('tempo %f segundos\\n' % (end-start))\n",
    "\n",
    "    outFile.close()"
   ]
  },
  {
   "cell_type": "code",
   "execution_count": 6,
   "id": "48c7fdab",
   "metadata": {},
   "outputs": [
    {
     "name": "stderr",
     "output_type": "stream",
     "text": [
      "100%|█████████████████████████████████████████████████████████████████████████| 2111047/2111047 [00:00<00:00, 2889460.40it/s]\n"
     ]
    }
   ],
   "source": [
    "import filecmp\n",
    "\n",
    "for i in tqdm(range(len(mensagem))):\n",
    "    if(mensagem[i] != descomprimida[i]):\n",
    "        string = mensagem[i-1] + mensagem[i] + mensagem[i+1]\n",
    "        string2 = descomprimida[i-1] + mensagem[i] + mensagem[i+1]\n",
    "        print(string, \" \", string2)"
   ]
  },
  {
   "cell_type": "code",
   "execution_count": 7,
   "id": "2fb9ddad",
   "metadata": {},
   "outputs": [
    {
     "data": {
      "text/plain": [
       "True"
      ]
     },
     "execution_count": 7,
     "metadata": {},
     "output_type": "execute_result"
    }
   ],
   "source": [
    "filecmp.cmp('Disco Rígido Funcionando aberto.mp4', \"saidas\\saidaK16.mp4\")"
   ]
  },
  {
   "cell_type": "code",
   "execution_count": null,
   "id": "f23f8b9f",
   "metadata": {},
   "outputs": [],
   "source": []
  }
 ],
 "metadata": {
  "kernelspec": {
   "display_name": "Python 3",
   "language": "python",
   "name": "python3"
  },
  "language_info": {
   "codemirror_mode": {
    "name": "ipython",
    "version": 3
   },
   "file_extension": ".py",
   "mimetype": "text/x-python",
   "name": "python",
   "nbconvert_exporter": "python",
   "pygments_lexer": "ipython3",
   "version": "3.8.8"
  }
 },
 "nbformat": 4,
 "nbformat_minor": 5
}
