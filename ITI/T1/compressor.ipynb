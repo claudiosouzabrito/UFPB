{
 "cells": [
  {
   "cell_type": "code",
   "execution_count": 21,
   "id": "676278d2",
   "metadata": {},
   "outputs": [
    {
     "name": "stdout",
     "output_type": "stream",
     "text": [
      "dicionario apos 255:\n",
      "256 -> 109,101\n",
      "257 -> 101,109\n",
      "258 -> 109,101,101\n",
      "259 -> 101,109,101\n",
      "260 -> 101,101\n",
      "261 -> 101,101,109\n",
      "262 -> 109,101,101,101\n",
      "K = 9\n",
      "tamanho 14 -> 8\n",
      "tempo de 0.000000 horas\n",
      "mensagem codificada:\n",
      "[109, 101, 256, 257, 101, 260, 258, 260]\n",
      "\n",
      "\n",
      "\n",
      "\n",
      "\n",
      "\n",
      "\n",
      "\n"
     ]
    }
   ],
   "source": [
    "# -- coding: UTF-8 --\n",
    "import copy\n",
    "import unicodedata\n",
    "import time\n",
    "\n",
    "\n",
    "\n",
    "def fileToBinaryText(path):\n",
    "    file = open(path, encoding='ISO-8859-1').read()\n",
    "    #file2 = unicodedata.normalize('NFKD', file).encode('ascii','ignore').decode('utf-8')\n",
    "    return ' '.join(format(ord(i), 'd') for i in file).split() #alterar 08b\n",
    "\n",
    "mensagem = fileToBinaryText(\"input.txt\")\n",
    "#print(mensagem)\n",
    "\n",
    "def Kfunction(K, codificado, codif, tempo):\n",
    "    tamanhoK = len(codificado)\n",
    "    print('K =', K)\n",
    "    print('tamanho %d -> %d' % (len(codif),tamanhoK))\n",
    "    print('tempo de %f horas' %tempo)\n",
    "    \n",
    "    print('mensagem codificada:')\n",
    "    print(codificado)\n",
    "\n",
    "    #print(type(codificado_k))\n",
    "    #print(type(codificado))\n",
    "    \n",
    "    #arquivo = open(\"output_k%s.txt\" %K, \"w\")\n",
    "    #arquivo.write(codificado_k)\n",
    "    #arquivo.close()\n",
    "\n",
    "K = 9\n",
    "start = time.time()\n",
    "codificado = []\n",
    "indice = 0\n",
    "nex = pow(2,8) #256\n",
    "dicionario = {}\n",
    "for i in range(0,256):\n",
    "    dicionario[str(i)] = [str(i)] #alterar \"{0:08b}\".format(i)\n",
    "\n",
    "while indice < len(mensagem):\n",
    "    letra = mensagem[indice]\n",
    "#    print('Byte da vez: ' + letra)\n",
    "    bigKey = letra #chave\n",
    "    bigFreq = 1 #frequencia de coincidencia \n",
    "    for key,valor in dicionario.items(): #eh pra achar coincidencias dentro do dicionario\n",
    "         if letra == valor[0]:\n",
    "        #    print('\\tencontrou correspondente para em: %s -> [%s]' % (key,','.join(map(str,valor))))\n",
    "            freq = 1\n",
    "            for l in range(1,len(valor)): # l = numero entra 1 e o tamanho do valor atual no dicionario\n",
    "                if indice + l != len(mensagem) and mensagem[indice+l] == valor[l]:  #se eu n to na ultima letra da mensagem\n",
    "                     #a proxima letra da mensagem = proxima letra do valor no dicionario\n",
    "                    freq += 1   # ma = ma\n",
    "                else:\n",
    "                    freq = 1\n",
    "        #            print('\\t\\tacabou a coincidencia em %d' % freq)\n",
    "                    break\n",
    "        #    print('\\tfreq = %d' % freq)\n",
    "            if freq > bigFreq:\n",
    "                bigFreq = freq\n",
    "                bigKey = key\n",
    "    codificado.append(int(bigKey))  #LEMBRAR DE TIRAR O ' ' DEPOIS!!!!!!!!!!!!!!!!!!!!!!!!!!!!!!!!!!!!!!!!!!!!!!!!!!!!!!!!!!!!!!!!!!!!!!!!!!!!!!!!!!!!!!!!!!!!!\n",
    "    #print(\"%d + %d != %d and %d < %d\" %(indice, len(dicionario[bigKey]), len(mensagem), len(dicionario), pow(2,K)))\n",
    "    if ((indice + len(dicionario[bigKey])) != len(mensagem)) and (len(dicionario) < pow(2,K)): #se a mensagem nao acabou e dicionario nao ta cheio\n",
    "        #adicionar novos elementos no dicionario\n",
    "        new = str(nex)     #alterar \"{0:08b}\".format(i)\n",
    "        dicionario[new] = copy.deepcopy(dicionario[bigKey]) #M\n",
    "        dicionario[new].append(mensagem[indice + len(dicionario[bigKey])])  #append A\n",
    "    #    print('novo indice no dicionario: %s -> [%s]' % (new, ','.join(map(str,dicionario[new]))))\n",
    "        nex += 1\n",
    "    indice += len(dicionario[bigKey]) \n",
    "\n",
    "end = time.time()\n",
    "tempo = (end - start)/3600 \n",
    "\n",
    "#ISSO AQUI EH SO PRINT\n",
    "print('dicionario apos 255:')\n",
    "listadict = []\n",
    "for i in dicionario.keys():\n",
    "    if int(i) >= 256:\n",
    "        listadict.append(i)\n",
    "listadict.sort()\n",
    "for i in listadict:\n",
    "    print('%s -> %s' %(i, ','.join(map(str,dicionario[i]))))\n",
    "if(K == 9):\n",
    "    Kfunction(9, codificado, mensagem, tempo)\n",
    "if(K == 10):\n",
    "    Kfunction(10, codificado, mensagem, tempo)\n",
    "if(K == 11):\n",
    "    Kfunction(11, codificado, mensagem, tempo)\n",
    "if(K == 12):\n",
    "    Kfunction(12, codificado, mensagem, tempo)\n",
    "if(K == 13):\n",
    "    Kfunction(13, codificado, mensagem, tempo)\n",
    "if(K == 14):\n",
    "    Kfunction(14, codificado, mensagem, tempo)\n",
    "if(K == 15):\n",
    "    Kfunction(15, codificado, mensagem, tempo)\n",
    "if(K == 16):\n",
    "    Kfunction(16, codificado, mensagem, tempo)\n",
    "    \n",
    "\n",
    "K += 1 \n",
    "\n",
    "\n",
    "\n",
    "testegospel = []\n",
    "f = open(\"output.txt\", \"wb\")\n",
    "for i in range(len(codificado)):\n",
    "    byte = struct.pack('H', codificado[i])\n",
    "    f.write(byte)\n",
    "  \n",
    "f.close()\n"
   ]
  },
  {
   "cell_type": "code",
   "execution_count": 16,
   "id": "d05e2097",
   "metadata": {
    "scrolled": false
   },
   "outputs": [
    {
     "name": "stderr",
     "output_type": "stream",
     "text": [
      "100%|█████████████████████████████████████████████████████████████████████| 15482708/15482708 [00:16<00:00, 940327.03it/s]\n",
      "  1%|▉                                                                     | 201003/15482708 [00:00<00:15, 1005901.82it/s]"
     ]
    },
    {
     "name": "stdout",
     "output_type": "stream",
     "text": [
      "tamanho: 15482708 -> 9089369\n",
      "tempo 16.466235 segundos\n"
     ]
    },
    {
     "name": "stderr",
     "output_type": "stream",
     "text": [
      "100%|████████████████████████████████████████████████████████████████████| 15482708/15482708 [00:15<00:00, 1028060.50it/s]\n",
      "  1%|▍                                                                       | 99200/15482708 [00:00<00:15, 984799.79it/s]"
     ]
    },
    {
     "name": "stdout",
     "output_type": "stream",
     "text": [
      "tamanho: 15482708 -> 7293478\n",
      "tempo 15.076108 segundos\n"
     ]
    },
    {
     "name": "stderr",
     "output_type": "stream",
     "text": [
      "100%|████████████████████████████████████████████████████████████████████| 15482708/15482708 [00:14<00:00, 1080433.30it/s]\n",
      "  1%|▍                                                                     | 103795/15482708 [00:00<00:14, 1030040.82it/s]"
     ]
    },
    {
     "name": "stdout",
     "output_type": "stream",
     "text": [
      "tamanho: 15482708 -> 6093988\n",
      "tempo 14.345018 segundos\n"
     ]
    },
    {
     "name": "stderr",
     "output_type": "stream",
     "text": [
      "100%|████████████████████████████████████████████████████████████████████| 15482708/15482708 [00:13<00:00, 1132866.50it/s]\n",
      "  1%|▍                                                                     | 102990/15482708 [00:00<00:15, 1022069.09it/s]"
     ]
    },
    {
     "name": "stdout",
     "output_type": "stream",
     "text": [
      "tamanho: 15482708 -> 5299068\n",
      "tempo 13.681850 segundos\n"
     ]
    },
    {
     "name": "stderr",
     "output_type": "stream",
     "text": [
      "100%|████████████████████████████████████████████████████████████████████| 15482708/15482708 [00:13<00:00, 1163708.96it/s]\n",
      "  1%|▍                                                                       | 99664/15482708 [00:00<00:15, 989415.48it/s]"
     ]
    },
    {
     "name": "stdout",
     "output_type": "stream",
     "text": [
      "tamanho: 15482708 -> 4694467\n",
      "tempo 13.316589 segundos\n"
     ]
    },
    {
     "name": "stderr",
     "output_type": "stream",
     "text": [
      "100%|████████████████████████████████████████████████████████████████████| 15482708/15482708 [00:13<00:00, 1189332.66it/s]\n",
      "  1%|▍                                                                     | 101152/15482708 [00:00<00:15, 1004194.75it/s]"
     ]
    },
    {
     "name": "stdout",
     "output_type": "stream",
     "text": [
      "tamanho: 15482708 -> 4185612\n",
      "tempo 13.031941 segundos\n"
     ]
    },
    {
     "name": "stderr",
     "output_type": "stream",
     "text": [
      "100%|████████████████████████████████████████████████████████████████████| 15482708/15482708 [00:13<00:00, 1179249.16it/s]\n",
      "  1%|▍                                                                     | 101435/15482708 [00:00<00:15, 1006720.70it/s]"
     ]
    },
    {
     "name": "stdout",
     "output_type": "stream",
     "text": [
      "tamanho: 15482708 -> 3763531\n",
      "tempo 13.141235 segundos\n"
     ]
    },
    {
     "name": "stderr",
     "output_type": "stream",
     "text": [
      "100%|████████████████████████████████████████████████████████████████████| 15482708/15482708 [00:13<00:00, 1175402.33it/s]"
     ]
    },
    {
     "name": "stdout",
     "output_type": "stream",
     "text": [
      "tamanho: 15482708 -> 3389016\n",
      "tempo 13.187224 segundos\n"
     ]
    },
    {
     "name": "stderr",
     "output_type": "stream",
     "text": [
      "\n"
     ]
    }
   ],
   "source": [
    "# -- coding: UTF-8 --\n",
    "import copy\n",
    "import unicodedata\n",
    "import time\n",
    "from tqdm import tqdm\n",
    "import struct\n",
    "\n",
    "mensagem = open(\"corpus16MB.txt\", \"r\", encoding='ISO-8859-1').read()\n",
    "\n",
    "for K in range(9,17):\n",
    "    outFile = open(\"outputK\" + str(K) + \".txt\" , \"wb\")\n",
    "    \n",
    "    start = time.time()\n",
    "    dicionario = {}\n",
    "\n",
    "    for i in range(2**8):\n",
    "        dicionario[i.to_bytes(1, 'big')] = i\n",
    "\n",
    "    newValue = 256\n",
    "    comprimida = []\n",
    "    new = ''\n",
    "    old = ''\n",
    "\n",
    "    for letra in tqdm(mensagem):\n",
    "        new = old + letra\n",
    "        if new.encode('ISO-8859-1') not in dicionario: \n",
    "            if len(dicionario) < 2**K:\n",
    "                dicionario[new.encode('ISO-8859-1')] = newValue\n",
    "                newValue += 1\n",
    "            \n",
    "            numCod = dicionario[old.encode('ISO-8859-1')]\n",
    "            comprimida.append(numCod)\n",
    "            outFile.write(struct.pack('H', numCod))\n",
    "            \n",
    "            old = letra\n",
    "        else:\n",
    "            old = new\n",
    "\n",
    "    numCod = dicionario[old.encode('ISO-8859-1')]\n",
    "    comprimida.append(numCod)\n",
    "    outFile.write(struct.pack('H', numCod))\n",
    "    \n",
    "    end = time.time()\n",
    "    \n",
    "    print('tamanho: %d -> %d' %(len(mensagem),len(comprimida)))\n",
    "    print('tempo %f segundos' % (end-start))\n",
    "    \n",
    "    outFile.close()\n"
   ]
  },
  {
   "cell_type": "code",
   "execution_count": null,
   "id": "aca01733",
   "metadata": {},
   "outputs": [],
   "source": []
  },
  {
   "cell_type": "code",
   "execution_count": 15,
   "id": "c3698f3d",
   "metadata": {},
   "outputs": [],
   "source": []
  },
  {
   "cell_type": "code",
   "execution_count": null,
   "id": "cd9b3165",
   "metadata": {},
   "outputs": [],
   "source": []
  },
  {
   "cell_type": "code",
   "execution_count": null,
   "id": "4043d4d8",
   "metadata": {},
   "outputs": [],
   "source": []
  },
  {
   "cell_type": "code",
   "execution_count": null,
   "id": "ef3d974a",
   "metadata": {},
   "outputs": [],
   "source": []
  },
  {
   "cell_type": "code",
   "execution_count": null,
   "id": "b2decce1",
   "metadata": {},
   "outputs": [],
   "source": []
  },
  {
   "cell_type": "code",
   "execution_count": null,
   "id": "6a18c647",
   "metadata": {},
   "outputs": [],
   "source": []
  }
 ],
 "metadata": {
  "kernelspec": {
   "display_name": "Python 3",
   "language": "python",
   "name": "python3"
  },
  "language_info": {
   "codemirror_mode": {
    "name": "ipython",
    "version": 3
   },
   "file_extension": ".py",
   "mimetype": "text/x-python",
   "name": "python",
   "nbconvert_exporter": "python",
   "pygments_lexer": "ipython3",
   "version": "3.8.8"
  }
 },
 "nbformat": 4,
 "nbformat_minor": 5
}
