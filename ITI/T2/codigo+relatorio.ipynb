{
 "cells": [
  {
   "cell_type": "markdown",
   "id": "0b27a648",
   "metadata": {},
   "source": [
    "# Relatório Parte 2\n",
    "\n",
    "Grupo: Caio Victor do Amaral Cunha Sarmento, Claudio de Souza Brito, Gabriel Teixeira Patrício"
   ]
  },
  {
   "cell_type": "markdown",
   "id": "e0af6135",
   "metadata": {},
   "source": [
    "## Introdução\n",
    "\n",
    "### <div style=\"text-align: justify\"> &nbsp;&nbsp;&nbsp;&nbsp;&nbsp;&nbsp; O objetivo desta segunda parte do projeto é implementar um reconhecedor de padrões baseado em PPM ou LZW com a utilização de um banco de dados previamente rotulado. Como o algoritmo escolhido foi o LZW, inicialmente será gerado um dicionário para a etapa de treinamento para cada categoria do banco de dados selecionado, que no nosso caso, foi o ORL Database of Faces.<br>&nbsp;&nbsp;&nbsp;&nbsp;&nbsp;&nbsp; Em seguida, o banco de dados será divido em amostras de treino e classificação utilizando a técnica de validação cruzada, ou seja, para cada categoria do banco de dados, ou cada pessoa em um total de 40 pessoas, foram selecionadas todas as amostras (10 para cada pessoa) -1 para treinamento (9 para treinamento) e 1 amostra para classificação, com a seleção de amostras sendo aleatória. Para classificação será utilizado o algoritmo dos K-Vizinhos mais Próximos (K-NN, k-nearest neighbors), com k=1, utilizando como métrica de distância o tamanho do arquivo comprimido. Como o algoritmo escolhido foi o LZW, métrica de distância escolhida foi a quantidade de índices utilizado pelo LZW. O treinamento consiste em gerar o dicionário de cada categoria do banco de dados. A classificação/testes consiste em comprimir 1 amostra (que não foi utilizada na geração do modelo) em todos os modelos/dicionários. Durante a compressão da amostra de teste o dicionário permanecerá estático e a amostra de teste será atribuída ao modelo que proporcionou a melhor compressão.\n",
    "</div>"
   ]
  },
  {
   "cell_type": "markdown",
   "id": "75a95997",
   "metadata": {},
   "source": [
    "## Metodologia\n",
    "\n",
    "### <div style=\"text-align: justify\"> &nbsp;&nbsp;&nbsp;&nbsp;&nbsp;&nbsp; Utilizando o banco de dados de imagens ORL Database of Faces, como tratamento foi descartado o cabeçalho do arquivo e utilizada apenas a sequência de pixels. O código foi desenvolvido na linguagem de programação Python na versão 3.8.4 no ambiente Jupyter Notebook, com auxílio das bibliotecas numpy, scykit-learn, time, struct e matplotlib. O banco de treinamento e arquivo de teste foram escolhidos aleatoriamente com a utilização do numpy.random, com 9 arquivos para treino e 1 para classificação, no total de 10 arquivos por pessoa, em um total de 40 pessoas no banco de dados. Em relação aos valores de K, foram testados todos os valores no intervalo de K=9 ao K=16. Durante a classificação, o dicionário se manteve estático. As curvas de Taxa de acerto x K e de Tempo de Processamento x K serão apresentados ao final do relatório. Por fim, a métrica de distância utilizada foi a quantidade de índices do LZW, isto é, a amostras de teste será atribuída ao modelo com o menor número de índices (melhor compressão).\n",
    "</div>"
   ]
  },
  {
   "cell_type": "markdown",
   "id": "91f58803",
   "metadata": {},
   "source": [
    "## Desenvolvimento\n",
    "\n",
    "### &nbsp;&nbsp;&nbsp;&nbsp;&nbsp;&nbsp; A seguir, temos o código do projeto com comentários nas funcionalidades mais importantes, explicando o que foi realizado em cada etapa, como pode ser visto abaixo:\n",
    "\n",
    "### &nbsp;&nbsp;&nbsp;&nbsp;&nbsp;&nbsp; A função treino recebe as imagens de treino e o valor do K atual, e retorna o dicionário modelo"
   ]
  },
  {
   "cell_type": "code",
   "execution_count": 1,
   "id": "f801d94c",
   "metadata": {},
   "outputs": [],
   "source": [
    "import time\n",
    "from tqdm import tqdm\n",
    "import struct\n",
    "\n",
    "def treino(train, k):\n",
    "    dicionario = {}\n",
    "    \n",
    "    for i in range(2**8):\n",
    "        dicionario[i.to_bytes(1, 'big')] = i\n",
    "    \n",
    "    newValue = 256\n",
    "    new = ''\n",
    "    old = ''\n",
    "        \n",
    "    for mensagem in train: # pra cada item de treinamento\n",
    "        for letra in mensagem: # rodar compressão\n",
    "            new = old + letra\n",
    "\n",
    "            if new.encode('ISO-8859-1') not in dicionario: \n",
    "                if len(dicionario) < 2**k:\n",
    "                    dicionario[new.encode('ISO-8859-1')] = newValue\n",
    "                    newValue += 1\n",
    "                else:\n",
    "                    break\n",
    "\n",
    "                old = letra\n",
    "            else:\n",
    "                old = new\n",
    "        if len(dicionario) >= 2**k:\n",
    "            break\n",
    "        \n",
    "    return dicionario"
   ]
  },
  {
   "cell_type": "markdown",
   "id": "eab0f9cd",
   "metadata": {},
   "source": [
    "### &nbsp;&nbsp;&nbsp;&nbsp;&nbsp;&nbsp; A função teste recebe a imagem de teste e o dicionário estático, e retorna o número de índices de compressão"
   ]
  },
  {
   "cell_type": "code",
   "execution_count": 2,
   "id": "928b06cc",
   "metadata": {},
   "outputs": [],
   "source": [
    "\n",
    "def teste(mensagem, dicionario):\n",
    "    comprimida = []\n",
    "    new = ''\n",
    "    old = ''\n",
    "\n",
    "    for letra in mensagem:\n",
    "        new = old + letra\n",
    "\n",
    "        if new.encode('ISO-8859-1') not in dicionario: \n",
    "            \n",
    "            numCod = dicionario[old.encode('ISO-8859-1')]\n",
    "\n",
    "            comprimida.append(numCod)\n",
    "\n",
    "            old = letra\n",
    "        else:\n",
    "            old = new\n",
    "\n",
    "    numCod = dicionario[old.encode('ISO-8859-1')]\n",
    "    comprimida.append(numCod)\n",
    "    \n",
    "    return len(comprimida)\n"
   ]
  },
  {
   "cell_type": "markdown",
   "id": "93b4687a",
   "metadata": {},
   "source": [
    "### &nbsp;&nbsp;&nbsp;&nbsp;&nbsp;&nbsp; Essa é a função main, onde faremos todo o processamento, e chamaremos as outras funções"
   ]
  },
  {
   "cell_type": "code",
   "execution_count": 12,
   "id": "ae0da600",
   "metadata": {
    "scrolled": false
   },
   "outputs": [
    {
     "name": "stdout",
     "output_type": "stream",
     "text": [
      "K = 9, acertos: 10\n",
      "K = 10, acertos: 4\n",
      "K = 11, acertos: 11\n",
      "K = 12, acertos: 11\n",
      "K = 13, acertos: 19\n",
      "K = 14, acertos: 33\n",
      "K = 15, acertos: 36\n",
      "K = 16, acertos: 38\n"
     ]
    }
   ],
   "source": [
    "import numpy as np\n",
    "from sklearn.model_selection import train_test_split\n",
    "\n",
    "tempo = []\n",
    "K = [9,10,11,12,13,14,15,16]\n",
    "acertos = []\n",
    "\n",
    "for k in range(9,17): # pra cada K\n",
    "    start = time.time()\n",
    "    \n",
    "    testes = []\n",
    "    dicionario = []\n",
    "    numAcerto = 0\n",
    "    \n",
    "    for i in range(0,40): #pra cada pessoa\n",
    "        imagem = []\n",
    "\n",
    "        for j in range(0, 10): #pra cada foto da pessoa\n",
    "            arquivo = open(\"orl_faces/s\" + str(i+1) + \"/\" + str(j+1) + \".pgm\", \"rb\").read()[14:]\n",
    "            arquivo = arquivo.decode('ISO-8859-1')\n",
    "            imagem.append(arquivo)\n",
    "            \n",
    "        train, test = train_test_split(imagem, test_size=0.1, random_state=np.random) #divisao de treino e teste\n",
    "        testes.append(test[0])  #colhendo os arquivos de teste\n",
    "        \n",
    "        dicionario.append(treino(train, k)) #colhendo os dicionarios\n",
    "    for i in range(len(testes)): #para cada teste\n",
    "        menor = 10000000\n",
    "\n",
    "        for j in range(len(dicionario)): #para cada dicionario\n",
    "            tam = teste(testes[i], dicionario[j]) #tamanho de indices do teste com o dicionario \n",
    "\n",
    "            if(tam < menor):\n",
    "                menor = tam\n",
    "                indice = j\n",
    "        if(i == indice):\n",
    "            numAcerto += 1\n",
    "\n",
    "    print(\"K = \" +str(k)+ \", acertos: \"+str(numAcerto))\n",
    "    acertos.append(numAcerto)\n",
    "    \n",
    "    end = time.time()\n",
    "    tempo.append(end-start)\n",
    "    "
   ]
  },
  {
   "cell_type": "markdown",
   "id": "4edfeeb8",
   "metadata": {},
   "source": [
    "## Resultados\n",
    "\n",
    "### &nbsp;&nbsp;&nbsp;&nbsp;&nbsp;&nbsp; Como pode ser observado, acima são mostrados via print a quantidade de acertos para cada valor de K, no qual a melhor taxa de acertos obtida foi para o K valendo 16, podendo ser confirmado ao analisar o gráfico abaixo de Acertos x K. Já em relação ao tempo de processamento, o K valendo 16 também foi o que apresentou maior tempo, podendo ser visualizado no gráfico abaixo de Tempo x K:  \n"
   ]
  },
  {
   "cell_type": "code",
   "execution_count": 13,
   "id": "8ea2767f",
   "metadata": {},
   "outputs": [
    {
     "data": {
      "image/png": "[encoded data removed]",
      "text/plain": [
       "<Figure size 432x288 with 1 Axes>"
      ]
     },
     "metadata": {
      "needs_background": "light"
     },
     "output_type": "display_data"
    }
   ],
   "source": [
    "import matplotlib.pyplot as plt\n",
    "import matplotlib.ticker as ticker\n",
    "fig, bx = plt.subplots()\n",
    "\n",
    "bx.plot(K, tempo, 'go-', linewidth=2, markersize=8)\n",
    "bx.xaxis.set_major_locator(ticker.MultipleLocator(1))\n",
    "bx.set(xlabel='K', ylabel='Tempo em segundos', title='Gráfico do tempo pelo K')\n",
    "bx.grid()\n",
    "\n",
    "plt.show()\n"
   ]
  },
  {
   "cell_type": "code",
   "execution_count": 14,
   "id": "0750a077",
   "metadata": {},
   "outputs": [
    {
     "data": {
      "image/png": "[encoded data removed]",
      "text/plain": [
       "<Figure size 432x288 with 1 Axes>"
      ]
     },
     "metadata": {
      "needs_background": "light"
     },
     "output_type": "display_data"
    }
   ],
   "source": [
    "import matplotlib.ticker as plticker\n",
    "fig, bx = plt.subplots()\n",
    "\n",
    "bx.plot(K, acertos, 'go-', linewidth=2, markersize=8)\n",
    "bx.yaxis.set_major_locator(plticker.MultipleLocator(base=2.0))\n",
    "bx.set(xlabel='K', ylabel='Acertos', title='Acertos por K')\n",
    "bx.grid()\n",
    "\n",
    "plt.show()\n"
   ]
  },
  {
   "cell_type": "code",
   "execution_count": null,
   "id": "4e80d8f3",
   "metadata": {},
   "outputs": [],
   "source": []
  },
  {
   "cell_type": "code",
   "execution_count": null,
   "id": "e16c396c",
   "metadata": {},
   "outputs": [],
   "source": []
  },
  {
   "cell_type": "code",
   "execution_count": null,
   "id": "6c680e45",
   "metadata": {},
   "outputs": [],
   "source": []
  },
  {
   "cell_type": "code",
   "execution_count": null,
   "id": "86860e8f",
   "metadata": {},
   "outputs": [],
   "source": []
  }
 ],
 "metadata": {
  "kernelspec": {
   "display_name": "Python 3",
   "language": "python",
   "name": "python3"
  },
  "language_info": {
   "codemirror_mode": {
    "name": "ipython",
    "version": 3
   },
   "file_extension": ".py",
   "mimetype": "text/x-python",
   "name": "python",
   "nbconvert_exporter": "python",
   "pygments_lexer": "ipython3",
   "version": "3.8.8"
  }
 },
 "nbformat": 4,
 "nbformat_minor": 5
}