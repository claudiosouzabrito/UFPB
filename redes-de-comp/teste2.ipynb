{
 "cells": [
  {
   "cell_type": "code",
   "execution_count": 30,
   "metadata": {},
   "outputs": [
    {
     "data": {
      "text/plain": [
       "'projeto'"
      ]
     },
     "execution_count": 30,
     "metadata": {},
     "output_type": "execute_result"
    }
   ],
   "source": [
    "texto = \"projeto\"\n",
    "\n"
   ]
  },
  {
   "cell_type": "code",
   "execution_count": 31,
   "metadata": {},
   "outputs": [],
   "source": [
    "textbyte = []\n",
    "for i in texto:\n",
    "    k = ord(i).to_bytes(4, 'big')\n",
    "    textbyte.append(k)"
   ]
  },
  {
   "cell_type": "code",
   "execution_count": 32,
   "metadata": {},
   "outputs": [],
   "source": [
    "#type(textbyte[0])"
   ]
  },
  {
   "cell_type": "code",
   "execution_count": 33,
   "metadata": {},
   "outputs": [],
   "source": [
    "import struct\n",
    "textfloat = []\n",
    "for i in textbyte:\n",
    "    saas = struct.unpack('<f', i)\n",
    "    k = saas[0]\n",
    "#    print(k)\n",
    "    textfloat.append(k)"
   ]
  },
  {
   "cell_type": "code",
   "execution_count": 34,
   "metadata": {},
   "outputs": [],
   "source": []
  },
  {
   "cell_type": "code",
   "execution_count": 35,
   "metadata": {},
   "outputs": [],
   "source": [
    "import numpy as np\n",
    "import soundfile as sf\n",
    "textarray = np.array(textfloat, dtype=np.float32)\n",
    "chave = np.array([-1.7014118346046923e+38])\n",
    "for i in range(4):\n",
    "    textarray = np.insert(textarray, 0, chave)\n",
    "zero = np.array([0])\n",
    "textarray = np.append(textarray,zero)\n",
    "filename = 'lixo.wav'\n",
    "# Extract data and sampling rate from file\n",
    "data, fs = sf.read(filename, dtype='float32') \n",
    "data = data.flatten()\n",
    "textarray = np.insert(textarray, 0, data)\n",
    "textarray = np.append(textarray, data)\n",
    "#interrogacao = np.array([0.5])\n",
    "#for i in range(35500):\n",
    "#    textarray = np.insert(textarray, 0, interrogacao)\n",
    "#    textarray = np.append(textarray,interrogacao)\n",
    "#print(type(textarray[0]))"
   ]
  },
  {
   "cell_type": "code",
   "execution_count": 36,
   "metadata": {},
   "outputs": [],
   "source": [
    "tam = len(textarray)\n",
    "tt = tam%2\n",
    "\n",
    "if (tt > 0):\n",
    "    textarray = np.append(textarray,zero)"
   ]
  },
  {
   "cell_type": "code",
   "execution_count": 37,
   "metadata": {},
   "outputs": [],
   "source": [
    "textarray.shape = ((textarray.size//2), 2)"
   ]
  },
  {
   "cell_type": "code",
   "execution_count": 38,
   "metadata": {
    "scrolled": true
   },
   "outputs": [],
   "source": []
  },
  {
   "cell_type": "code",
   "execution_count": null,
   "metadata": {},
   "outputs": [],
   "source": []
  },
  {
   "cell_type": "code",
   "execution_count": 39,
   "metadata": {},
   "outputs": [],
   "source": [
    "from scipy.io.wavfile import write\n",
    "write('input.wav', 44100, textarray)  # Save as WAV file "
   ]
  },
  {
   "cell_type": "code",
   "execution_count": 40,
   "metadata": {},
   "outputs": [
    {
     "name": "stdout",
     "output_type": "stream",
     "text": [
      "Requirement already satisfied: simpleaudio in ./lib/python3.6/site-packages (1.0.4)\n",
      "Note: you may need to restart the kernel to use updated packages.\n"
     ]
    }
   ],
   "source": [
    "\n",
    "pip install simpleaudio\n"
   ]
  },
  {
   "cell_type": "code",
   "execution_count": 41,
   "metadata": {},
   "outputs": [],
   "source": [
    "import binascii\n",
    "import numpy as np\n",
    "import sys\n",
    "import soundfile as sf\n",
    "import sounddevice as sd\n",
    "from scipy.io.wavfile import write\n",
    "import struct\n",
    "\n",
    "def C6_sound():\n",
    "    # note's frequency\n",
    "    C6_freq = 1046.50  # 7/8 de Dó #2112\n",
    "    num_channels = 1\n",
    "    bytes_per_sample = 1\n",
    "    sample_rate = 44100\n",
    "    T = 0.25  # T is note duration in seconds\n",
    "    t = np.linspace(0, T, int(T * sample_rate), False)\n",
    "    C6_note = np.sin(C6_freq * t * 2 * np.pi)\n",
    "    audio = np.hstack((C6_note))  # Convert to the npy standard\n",
    "    audio *= 32767 / np.max(np.abs(audio))\n",
    "    audio = audio.astype(np.int16)\n",
    "    sd.play(audio, sample_rate)\n",
    "    status = sd.wait()"
   ]
  },
  {
   "cell_type": "code",
   "execution_count": 42,
   "metadata": {},
   "outputs": [],
   "source": [
    "def C8_sound():\n",
    "    C8_freq = 4186.01  # lá #444\n",
    "    bytes_per_sample = 1\n",
    "    num_channels = 1\n",
    "    sample_rate = 44100\n",
    "    T = 0.25  # T is note duration in seconds\n",
    "    # get timesteps for each sample\n",
    "    t = np.linspace(0, T, int(T * sample_rate), False)\n",
    "    C8_note = np.sin(C8_freq * t * 2 * np.pi)\n",
    "\n",
    "    audio = np.hstack((C8_note))\n",
    "    audio *= 32767 / np.max(np.abs(audio))\n",
    "    audio = audio.astype(np.int16)\n",
    "    sd.play(audio, sample_rate)\n",
    "    status = sd.wait()"
   ]
  },
  {
   "cell_type": "code",
   "execution_count": 44,
   "metadata": {},
   "outputs": [
    {
     "ename": "UnicodeDecodeError",
     "evalue": "'utf-8' codec can't decode byte 0xd2 in position 4: invalid continuation byte",
     "output_type": "error",
     "traceback": [
      "\u001b[0;31m---------------------------------------------------------------------------\u001b[0m",
      "\u001b[0;31mUnicodeDecodeError\u001b[0m                        Traceback (most recent call last)",
      "\u001b[0;32m<ipython-input-44-ba03fa8777f1>\u001b[0m in \u001b[0;36m<module>\u001b[0;34m\u001b[0m\n\u001b[1;32m     34\u001b[0m \u001b[0;34m\u001b[0m\u001b[0m\n\u001b[1;32m     35\u001b[0m \u001b[0;34m\u001b[0m\u001b[0m\n\u001b[0;32m---> 36\u001b[0;31m \u001b[0mmain\u001b[0m\u001b[0;34m(\u001b[0m\u001b[0;34m)\u001b[0m\u001b[0;34m\u001b[0m\u001b[0;34m\u001b[0m\u001b[0m\n\u001b[0m",
      "\u001b[0;32m<ipython-input-44-ba03fa8777f1>\u001b[0m in \u001b[0;36mmain\u001b[0;34m()\u001b[0m\n\u001b[1;32m      2\u001b[0m     \u001b[0marquivo_enviar\u001b[0m \u001b[0;34m=\u001b[0m \u001b[0;34m'input.wav'\u001b[0m\u001b[0;34m\u001b[0m\u001b[0;34m\u001b[0m\u001b[0m\n\u001b[1;32m      3\u001b[0m     \u001b[0;32mwith\u001b[0m \u001b[0mopen\u001b[0m\u001b[0;34m(\u001b[0m\u001b[0marquivo_enviar\u001b[0m\u001b[0;34m,\u001b[0m \u001b[0;34m'r'\u001b[0m\u001b[0;34m)\u001b[0m \u001b[0;32mas\u001b[0m \u001b[0mfile\u001b[0m\u001b[0;34m:\u001b[0m\u001b[0;34m\u001b[0m\u001b[0;34m\u001b[0m\u001b[0m\n\u001b[0;32m----> 4\u001b[0;31m         \u001b[0minfo\u001b[0m \u001b[0;34m=\u001b[0m \u001b[0mfile\u001b[0m\u001b[0;34m.\u001b[0m\u001b[0mread\u001b[0m\u001b[0;34m(\u001b[0m\u001b[0;34m)\u001b[0m\u001b[0;34m\u001b[0m\u001b[0;34m\u001b[0m\u001b[0m\n\u001b[0m\u001b[1;32m      5\u001b[0m     \u001b[0mres\u001b[0m \u001b[0;34m=\u001b[0m \u001b[0;34m''\u001b[0m\u001b[0;34m.\u001b[0m\u001b[0mjoin\u001b[0m\u001b[0;34m(\u001b[0m\u001b[0mformat\u001b[0m\u001b[0;34m(\u001b[0m\u001b[0mord\u001b[0m\u001b[0;34m(\u001b[0m\u001b[0mi\u001b[0m\u001b[0;34m)\u001b[0m\u001b[0;34m,\u001b[0m \u001b[0;34m'b'\u001b[0m\u001b[0;34m)\u001b[0m \u001b[0;32mfor\u001b[0m \u001b[0mi\u001b[0m \u001b[0;32min\u001b[0m \u001b[0minfo\u001b[0m\u001b[0;34m)\u001b[0m\u001b[0;34m\u001b[0m\u001b[0;34m\u001b[0m\u001b[0m\n\u001b[1;32m      6\u001b[0m     \u001b[0mprint\u001b[0m\u001b[0;34m(\u001b[0m\u001b[0;34m\"Binario do texto:\"\u001b[0m\u001b[0;34m,\u001b[0m \u001b[0mres\u001b[0m\u001b[0;34m)\u001b[0m\u001b[0;34m\u001b[0m\u001b[0;34m\u001b[0m\u001b[0m\n",
      "\u001b[0;32m~/programas/redes-de-comp/lib/python3.6/codecs.py\u001b[0m in \u001b[0;36mdecode\u001b[0;34m(self, input, final)\u001b[0m\n\u001b[1;32m    319\u001b[0m         \u001b[0;31m# decode input (taking the buffer into account)\u001b[0m\u001b[0;34m\u001b[0m\u001b[0;34m\u001b[0m\u001b[0;34m\u001b[0m\u001b[0m\n\u001b[1;32m    320\u001b[0m         \u001b[0mdata\u001b[0m \u001b[0;34m=\u001b[0m \u001b[0mself\u001b[0m\u001b[0;34m.\u001b[0m\u001b[0mbuffer\u001b[0m \u001b[0;34m+\u001b[0m \u001b[0minput\u001b[0m\u001b[0;34m\u001b[0m\u001b[0;34m\u001b[0m\u001b[0m\n\u001b[0;32m--> 321\u001b[0;31m         \u001b[0;34m(\u001b[0m\u001b[0mresult\u001b[0m\u001b[0;34m,\u001b[0m \u001b[0mconsumed\u001b[0m\u001b[0;34m)\u001b[0m \u001b[0;34m=\u001b[0m \u001b[0mself\u001b[0m\u001b[0;34m.\u001b[0m\u001b[0m_buffer_decode\u001b[0m\u001b[0;34m(\u001b[0m\u001b[0mdata\u001b[0m\u001b[0;34m,\u001b[0m \u001b[0mself\u001b[0m\u001b[0;34m.\u001b[0m\u001b[0merrors\u001b[0m\u001b[0;34m,\u001b[0m \u001b[0mfinal\u001b[0m\u001b[0;34m)\u001b[0m\u001b[0;34m\u001b[0m\u001b[0;34m\u001b[0m\u001b[0m\n\u001b[0m\u001b[1;32m    322\u001b[0m         \u001b[0;31m# keep undecoded input until the next call\u001b[0m\u001b[0;34m\u001b[0m\u001b[0;34m\u001b[0m\u001b[0;34m\u001b[0m\u001b[0m\n\u001b[1;32m    323\u001b[0m         \u001b[0mself\u001b[0m\u001b[0;34m.\u001b[0m\u001b[0mbuffer\u001b[0m \u001b[0;34m=\u001b[0m \u001b[0mdata\u001b[0m\u001b[0;34m[\u001b[0m\u001b[0mconsumed\u001b[0m\u001b[0;34m:\u001b[0m\u001b[0;34m]\u001b[0m\u001b[0;34m\u001b[0m\u001b[0;34m\u001b[0m\u001b[0m\n",
      "\u001b[0;31mUnicodeDecodeError\u001b[0m: 'utf-8' codec can't decode byte 0xd2 in position 4: invalid continuation byte"
     ]
    }
   ],
   "source": [
    "def main():\n",
    "    arquivo_enviar = 'texto.txt'\n",
    "    with open(arquivo_enviar, 'r') as file:\n",
    "        info = file.read()\n",
    "    res = ''.join(format(ord(i), 'b') for i in info)\n",
    "    chave = np.array([1])\n",
    "    for i in range(4):\n",
    "        res = np.insert(res, 0, chave)\n",
    "    zero = np.array([0])\n",
    "    textarray = np.append(textarray,zero)\n",
    "    print(\"Binario do texto:\", res)\n",
    "    print(type(res))\n",
    "    T = 0.25\n",
    "    n_bits = len(res)\n",
    "    duracao = n_bits*T\n",
    "    fs = 44100\n",
    "    print(\"O arquivo ira demorar\", duracao, \"segundos, para reproduzir\")\n",
    "\n",
    "    myrecording = sd.rec(int(duracao*fs), samplerate=fs, channels=2)\n",
    "\n",
    "    for i in range(0, n_bits):\n",
    "        if(res[i] == '0'):\n",
    "            C6_sound()\n",
    "        elif (res[i] == '1'):\n",
    "            C8_sound()\n",
    "        else:\n",
    "            pass\n",
    "\n",
    "    print(\"A Gravação acabou\\n Confira se ficou correta...\")\n",
    "    filename = 'input.wav'\n",
    "    write(filename, fs, myrecording)  # Save as WAV file\n",
    "\n",
    "    import simpleaudio as sa\n",
    "\n",
    "    wave_obj = sa.WaveObject.from_wave_file(filename)\n",
    "    play_obj = wave_obj.play()\n",
    "    play_obj.wait_done()  # Wait until sound has finished playing\n",
    "\n",
    "\n",
    "\n",
    "main()\n"
   ]
  },
  {
   "cell_type": "code",
   "execution_count": null,
   "metadata": {},
   "outputs": [],
   "source": []
  },
  {
   "cell_type": "code",
   "execution_count": null,
   "metadata": {},
   "outputs": [],
   "source": []
  },
  {
   "cell_type": "code",
   "execution_count": null,
   "metadata": {},
   "outputs": [],
   "source": []
  }
 ],
 "metadata": {
  "kernelspec": {
   "display_name": "Python 3",
   "language": "python",
   "name": "python3"
  },
  "language_info": {
   "codemirror_mode": {
    "name": "ipython",
    "version": 3
   },
   "file_extension": ".py",
   "mimetype": "text/x-python",
   "name": "python",
   "nbconvert_exporter": "python",
   "pygments_lexer": "ipython3",
   "version": "3.6.9"
  }
 },
 "nbformat": 4,
 "nbformat_minor": 4
}
