{
 "cells": [
  {
   "cell_type": "code",
   "execution_count": 1,
   "metadata": {},
   "outputs": [
    {
     "data": {
      "text/html": [
       "<div>\n",
       "<style scoped>\n",
       "    .dataframe tbody tr th:only-of-type {\n",
       "        vertical-align: middle;\n",
       "    }\n",
       "\n",
       "    .dataframe tbody tr th {\n",
       "        vertical-align: top;\n",
       "    }\n",
       "\n",
       "    .dataframe thead th {\n",
       "        text-align: right;\n",
       "    }\n",
       "</style>\n",
       "<table border=\"1\" class=\"dataframe\">\n",
       "  <thead>\n",
       "    <tr style=\"text-align: right;\">\n",
       "      <th></th>\n",
       "      <th>holiday</th>\n",
       "      <th>temp</th>\n",
       "      <th>rain_1h</th>\n",
       "      <th>snow_1h</th>\n",
       "      <th>clouds_all</th>\n",
       "      <th>weather_main</th>\n",
       "      <th>weather_description</th>\n",
       "      <th>date_time</th>\n",
       "      <th>traffic_volume</th>\n",
       "    </tr>\n",
       "  </thead>\n",
       "  <tbody>\n",
       "    <tr>\n",
       "      <th>0</th>\n",
       "      <td>None</td>\n",
       "      <td>288.28</td>\n",
       "      <td>0.0</td>\n",
       "      <td>0.0</td>\n",
       "      <td>40</td>\n",
       "      <td>Clouds</td>\n",
       "      <td>scattered clouds</td>\n",
       "      <td>2012-10-02 09:00:00</td>\n",
       "      <td>5545</td>\n",
       "    </tr>\n",
       "    <tr>\n",
       "      <th>1</th>\n",
       "      <td>None</td>\n",
       "      <td>289.36</td>\n",
       "      <td>0.0</td>\n",
       "      <td>0.0</td>\n",
       "      <td>75</td>\n",
       "      <td>Clouds</td>\n",
       "      <td>broken clouds</td>\n",
       "      <td>2012-10-02 10:00:00</td>\n",
       "      <td>4516</td>\n",
       "    </tr>\n",
       "    <tr>\n",
       "      <th>2</th>\n",
       "      <td>None</td>\n",
       "      <td>289.58</td>\n",
       "      <td>0.0</td>\n",
       "      <td>0.0</td>\n",
       "      <td>90</td>\n",
       "      <td>Clouds</td>\n",
       "      <td>overcast clouds</td>\n",
       "      <td>2012-10-02 11:00:00</td>\n",
       "      <td>4767</td>\n",
       "    </tr>\n",
       "    <tr>\n",
       "      <th>3</th>\n",
       "      <td>None</td>\n",
       "      <td>290.13</td>\n",
       "      <td>0.0</td>\n",
       "      <td>0.0</td>\n",
       "      <td>90</td>\n",
       "      <td>Clouds</td>\n",
       "      <td>overcast clouds</td>\n",
       "      <td>2012-10-02 12:00:00</td>\n",
       "      <td>5026</td>\n",
       "    </tr>\n",
       "    <tr>\n",
       "      <th>4</th>\n",
       "      <td>None</td>\n",
       "      <td>291.14</td>\n",
       "      <td>0.0</td>\n",
       "      <td>0.0</td>\n",
       "      <td>75</td>\n",
       "      <td>Clouds</td>\n",
       "      <td>broken clouds</td>\n",
       "      <td>2012-10-02 13:00:00</td>\n",
       "      <td>4918</td>\n",
       "    </tr>\n",
       "    <tr>\n",
       "      <th>...</th>\n",
       "      <td>...</td>\n",
       "      <td>...</td>\n",
       "      <td>...</td>\n",
       "      <td>...</td>\n",
       "      <td>...</td>\n",
       "      <td>...</td>\n",
       "      <td>...</td>\n",
       "      <td>...</td>\n",
       "      <td>...</td>\n",
       "    </tr>\n",
       "    <tr>\n",
       "      <th>48199</th>\n",
       "      <td>None</td>\n",
       "      <td>283.45</td>\n",
       "      <td>0.0</td>\n",
       "      <td>0.0</td>\n",
       "      <td>75</td>\n",
       "      <td>Clouds</td>\n",
       "      <td>broken clouds</td>\n",
       "      <td>2018-09-30 19:00:00</td>\n",
       "      <td>3543</td>\n",
       "    </tr>\n",
       "    <tr>\n",
       "      <th>48200</th>\n",
       "      <td>None</td>\n",
       "      <td>282.76</td>\n",
       "      <td>0.0</td>\n",
       "      <td>0.0</td>\n",
       "      <td>90</td>\n",
       "      <td>Clouds</td>\n",
       "      <td>overcast clouds</td>\n",
       "      <td>2018-09-30 20:00:00</td>\n",
       "      <td>2781</td>\n",
       "    </tr>\n",
       "    <tr>\n",
       "      <th>48201</th>\n",
       "      <td>None</td>\n",
       "      <td>282.73</td>\n",
       "      <td>0.0</td>\n",
       "      <td>0.0</td>\n",
       "      <td>90</td>\n",
       "      <td>Thunderstorm</td>\n",
       "      <td>proximity thunderstorm</td>\n",
       "      <td>2018-09-30 21:00:00</td>\n",
       "      <td>2159</td>\n",
       "    </tr>\n",
       "    <tr>\n",
       "      <th>48202</th>\n",
       "      <td>None</td>\n",
       "      <td>282.09</td>\n",
       "      <td>0.0</td>\n",
       "      <td>0.0</td>\n",
       "      <td>90</td>\n",
       "      <td>Clouds</td>\n",
       "      <td>overcast clouds</td>\n",
       "      <td>2018-09-30 22:00:00</td>\n",
       "      <td>1450</td>\n",
       "    </tr>\n",
       "    <tr>\n",
       "      <th>48203</th>\n",
       "      <td>None</td>\n",
       "      <td>282.12</td>\n",
       "      <td>0.0</td>\n",
       "      <td>0.0</td>\n",
       "      <td>90</td>\n",
       "      <td>Clouds</td>\n",
       "      <td>overcast clouds</td>\n",
       "      <td>2018-09-30 23:00:00</td>\n",
       "      <td>954</td>\n",
       "    </tr>\n",
       "  </tbody>\n",
       "</table>\n",
       "<p>48204 rows × 9 columns</p>\n",
       "</div>"
      ],
      "text/plain": [
       "      holiday    temp  rain_1h  snow_1h  clouds_all  weather_main  \\\n",
       "0        None  288.28      0.0      0.0          40        Clouds   \n",
       "1        None  289.36      0.0      0.0          75        Clouds   \n",
       "2        None  289.58      0.0      0.0          90        Clouds   \n",
       "3        None  290.13      0.0      0.0          90        Clouds   \n",
       "4        None  291.14      0.0      0.0          75        Clouds   \n",
       "...       ...     ...      ...      ...         ...           ...   \n",
       "48199    None  283.45      0.0      0.0          75        Clouds   \n",
       "48200    None  282.76      0.0      0.0          90        Clouds   \n",
       "48201    None  282.73      0.0      0.0          90  Thunderstorm   \n",
       "48202    None  282.09      0.0      0.0          90        Clouds   \n",
       "48203    None  282.12      0.0      0.0          90        Clouds   \n",
       "\n",
       "          weather_description            date_time  traffic_volume  \n",
       "0            scattered clouds  2012-10-02 09:00:00            5545  \n",
       "1               broken clouds  2012-10-02 10:00:00            4516  \n",
       "2             overcast clouds  2012-10-02 11:00:00            4767  \n",
       "3             overcast clouds  2012-10-02 12:00:00            5026  \n",
       "4               broken clouds  2012-10-02 13:00:00            4918  \n",
       "...                       ...                  ...             ...  \n",
       "48199           broken clouds  2018-09-30 19:00:00            3543  \n",
       "48200         overcast clouds  2018-09-30 20:00:00            2781  \n",
       "48201  proximity thunderstorm  2018-09-30 21:00:00            2159  \n",
       "48202         overcast clouds  2018-09-30 22:00:00            1450  \n",
       "48203         overcast clouds  2018-09-30 23:00:00             954  \n",
       "\n",
       "[48204 rows x 9 columns]"
      ]
     },
     "execution_count": 1,
     "metadata": {},
     "output_type": "execute_result"
    }
   ],
   "source": [
    "import pandas as pd\n",
    "import numpy as np\n",
    "import statistics as st\n",
    "import matplotlib.pyplot as plt\n",
    "import plotly.express as px\n",
    "import seaborn as sns\n",
    "df = pd.read_csv('questao2.csv', delimiter=\",\")\n",
    "df"
   ]
  },
  {
   "cell_type": "code",
   "execution_count": 2,
   "metadata": {},
   "outputs": [
    {
     "data": {
      "text/plain": [
       "holiday                0\n",
       "temp                   0\n",
       "rain_1h                0\n",
       "snow_1h                0\n",
       "clouds_all             0\n",
       "weather_main           0\n",
       "weather_description    0\n",
       "date_time              0\n",
       "traffic_volume         0\n",
       "dtype: int64"
      ]
     },
     "execution_count": 2,
     "metadata": {},
     "output_type": "execute_result"
    }
   ],
   "source": [
    "df.isnull().sum()"
   ]
  },
  {
   "cell_type": "code",
   "execution_count": 3,
   "metadata": {},
   "outputs": [
    {
     "name": "stdout",
     "output_type": "stream",
     "text": [
      "False    48187\n",
      "True        17\n",
      "dtype: int64\n",
      "      holiday    temp  rain_1h  snow_1h  clouds_all  weather_main  \\\n",
      "0        None  288.28      0.0      0.0          40        Clouds   \n",
      "1        None  289.36      0.0      0.0          75        Clouds   \n",
      "2        None  289.58      0.0      0.0          90        Clouds   \n",
      "3        None  290.13      0.0      0.0          90        Clouds   \n",
      "4        None  291.14      0.0      0.0          75        Clouds   \n",
      "...       ...     ...      ...      ...         ...           ...   \n",
      "48199    None  283.45      0.0      0.0          75        Clouds   \n",
      "48200    None  282.76      0.0      0.0          90        Clouds   \n",
      "48201    None  282.73      0.0      0.0          90  Thunderstorm   \n",
      "48202    None  282.09      0.0      0.0          90        Clouds   \n",
      "48203    None  282.12      0.0      0.0          90        Clouds   \n",
      "\n",
      "          weather_description            date_time  traffic_volume  \n",
      "0            scattered clouds  2012-10-02 09:00:00            5545  \n",
      "1               broken clouds  2012-10-02 10:00:00            4516  \n",
      "2             overcast clouds  2012-10-02 11:00:00            4767  \n",
      "3             overcast clouds  2012-10-02 12:00:00            5026  \n",
      "4               broken clouds  2012-10-02 13:00:00            4918  \n",
      "...                       ...                  ...             ...  \n",
      "48199           broken clouds  2018-09-30 19:00:00            3543  \n",
      "48200         overcast clouds  2018-09-30 20:00:00            2781  \n",
      "48201  proximity thunderstorm  2018-09-30 21:00:00            2159  \n",
      "48202         overcast clouds  2018-09-30 22:00:00            1450  \n",
      "48203         overcast clouds  2018-09-30 23:00:00             954  \n",
      "\n",
      "[48187 rows x 9 columns]\n"
     ]
    }
   ],
   "source": [
    "print(df.duplicated().value_counts())\n",
    "df.drop_duplicates(inplace=True)\n",
    "print(df)"
   ]
  },
  {
   "cell_type": "code",
   "execution_count": 4,
   "metadata": {},
   "outputs": [
    {
     "data": {
      "text/html": [
       "<style  type=\"text/css\" >\n",
       "    #T_8d152da8_672a_11ea_979e_40f02f124a90row0_col0 {\n",
       "            background-color:  #b40426;\n",
       "            color:  #f1f1f1;\n",
       "        }    #T_8d152da8_672a_11ea_979e_40f02f124a90row0_col1 {\n",
       "            background-color:  #3d50c3;\n",
       "            color:  #f1f1f1;\n",
       "        }    #T_8d152da8_672a_11ea_979e_40f02f124a90row0_col2 {\n",
       "            background-color:  #4055c8;\n",
       "            color:  #f1f1f1;\n",
       "        }    #T_8d152da8_672a_11ea_979e_40f02f124a90row0_col3 {\n",
       "            background-color:  #5875e1;\n",
       "            color:  #000000;\n",
       "        }    #T_8d152da8_672a_11ea_979e_40f02f124a90row0_col4 {\n",
       "            background-color:  #6384eb;\n",
       "            color:  #000000;\n",
       "        }    #T_8d152da8_672a_11ea_979e_40f02f124a90row1_col0 {\n",
       "            background-color:  #3b4cc0;\n",
       "            color:  #f1f1f1;\n",
       "        }    #T_8d152da8_672a_11ea_979e_40f02f124a90row1_col1 {\n",
       "            background-color:  #b40426;\n",
       "            color:  #f1f1f1;\n",
       "        }    #T_8d152da8_672a_11ea_979e_40f02f124a90row1_col2 {\n",
       "            background-color:  #3b4cc0;\n",
       "            color:  #f1f1f1;\n",
       "        }    #T_8d152da8_672a_11ea_979e_40f02f124a90row1_col3 {\n",
       "            background-color:  #3b4cc0;\n",
       "            color:  #f1f1f1;\n",
       "        }    #T_8d152da8_672a_11ea_979e_40f02f124a90row1_col4 {\n",
       "            background-color:  #3c4ec2;\n",
       "            color:  #f1f1f1;\n",
       "        }    #T_8d152da8_672a_11ea_979e_40f02f124a90row2_col0 {\n",
       "            background-color:  #3d50c3;\n",
       "            color:  #f1f1f1;\n",
       "        }    #T_8d152da8_672a_11ea_979e_40f02f124a90row2_col1 {\n",
       "            background-color:  #3b4cc0;\n",
       "            color:  #f1f1f1;\n",
       "        }    #T_8d152da8_672a_11ea_979e_40f02f124a90row2_col2 {\n",
       "            background-color:  #b40426;\n",
       "            color:  #f1f1f1;\n",
       "        }    #T_8d152da8_672a_11ea_979e_40f02f124a90row2_col3 {\n",
       "            background-color:  #4055c8;\n",
       "            color:  #f1f1f1;\n",
       "        }    #T_8d152da8_672a_11ea_979e_40f02f124a90row2_col4 {\n",
       "            background-color:  #3b4cc0;\n",
       "            color:  #f1f1f1;\n",
       "        }    #T_8d152da8_672a_11ea_979e_40f02f124a90row3_col0 {\n",
       "            background-color:  #5673e0;\n",
       "            color:  #000000;\n",
       "        }    #T_8d152da8_672a_11ea_979e_40f02f124a90row3_col1 {\n",
       "            background-color:  #3c4ec2;\n",
       "            color:  #f1f1f1;\n",
       "        }    #T_8d152da8_672a_11ea_979e_40f02f124a90row3_col2 {\n",
       "            background-color:  #4358cb;\n",
       "            color:  #f1f1f1;\n",
       "        }    #T_8d152da8_672a_11ea_979e_40f02f124a90row3_col3 {\n",
       "            background-color:  #b40426;\n",
       "            color:  #f1f1f1;\n",
       "        }    #T_8d152da8_672a_11ea_979e_40f02f124a90row3_col4 {\n",
       "            background-color:  #4f69d9;\n",
       "            color:  #000000;\n",
       "        }    #T_8d152da8_672a_11ea_979e_40f02f124a90row4_col0 {\n",
       "            background-color:  #6180e9;\n",
       "            color:  #000000;\n",
       "        }    #T_8d152da8_672a_11ea_979e_40f02f124a90row4_col1 {\n",
       "            background-color:  #3c4ec2;\n",
       "            color:  #f1f1f1;\n",
       "        }    #T_8d152da8_672a_11ea_979e_40f02f124a90row4_col2 {\n",
       "            background-color:  #3b4cc0;\n",
       "            color:  #f1f1f1;\n",
       "        }    #T_8d152da8_672a_11ea_979e_40f02f124a90row4_col3 {\n",
       "            background-color:  #4e68d8;\n",
       "            color:  #000000;\n",
       "        }    #T_8d152da8_672a_11ea_979e_40f02f124a90row4_col4 {\n",
       "            background-color:  #b40426;\n",
       "            color:  #f1f1f1;\n",
       "        }</style><table id=\"T_8d152da8_672a_11ea_979e_40f02f124a90\" ><thead>    <tr>        <th class=\"blank level0\" ></th>        <th class=\"col_heading level0 col0\" >temp</th>        <th class=\"col_heading level0 col1\" >rain_1h</th>        <th class=\"col_heading level0 col2\" >snow_1h</th>        <th class=\"col_heading level0 col3\" >clouds_all</th>        <th class=\"col_heading level0 col4\" >traffic_volume</th>    </tr></thead><tbody>\n",
       "                <tr>\n",
       "                        <th id=\"T_8d152da8_672a_11ea_979e_40f02f124a90level0_row0\" class=\"row_heading level0 row0\" >temp</th>\n",
       "                        <td id=\"T_8d152da8_672a_11ea_979e_40f02f124a90row0_col0\" class=\"data row0 col0\" >1.000000</td>\n",
       "                        <td id=\"T_8d152da8_672a_11ea_979e_40f02f124a90row0_col1\" class=\"data row0 col1\" >0.009070</td>\n",
       "                        <td id=\"T_8d152da8_672a_11ea_979e_40f02f124a90row0_col2\" class=\"data row0 col2\" >0.019756</td>\n",
       "                        <td id=\"T_8d152da8_672a_11ea_979e_40f02f124a90row0_col3\" class=\"data row0 col3\" >0.101968</td>\n",
       "                        <td id=\"T_8d152da8_672a_11ea_979e_40f02f124a90row0_col4\" class=\"data row0 col4\" >0.130161</td>\n",
       "            </tr>\n",
       "            <tr>\n",
       "                        <th id=\"T_8d152da8_672a_11ea_979e_40f02f124a90level0_row1\" class=\"row_heading level0 row1\" >rain_1h</th>\n",
       "                        <td id=\"T_8d152da8_672a_11ea_979e_40f02f124a90row1_col0\" class=\"data row1 col0\" >0.009070</td>\n",
       "                        <td id=\"T_8d152da8_672a_11ea_979e_40f02f124a90row1_col1\" class=\"data row1 col1\" >1.000000</td>\n",
       "                        <td id=\"T_8d152da8_672a_11ea_979e_40f02f124a90row1_col2\" class=\"data row1 col2\" >0.000090</td>\n",
       "                        <td id=\"T_8d152da8_672a_11ea_979e_40f02f124a90row1_col3\" class=\"data row1 col3\" >0.004818</td>\n",
       "                        <td id=\"T_8d152da8_672a_11ea_979e_40f02f124a90row1_col4\" class=\"data row1 col4\" >0.004715</td>\n",
       "            </tr>\n",
       "            <tr>\n",
       "                        <th id=\"T_8d152da8_672a_11ea_979e_40f02f124a90level0_row2\" class=\"row_heading level0 row2\" >snow_1h</th>\n",
       "                        <td id=\"T_8d152da8_672a_11ea_979e_40f02f124a90row2_col0\" class=\"data row2 col0\" >0.019756</td>\n",
       "                        <td id=\"T_8d152da8_672a_11ea_979e_40f02f124a90row2_col1\" class=\"data row2 col1\" >0.000090</td>\n",
       "                        <td id=\"T_8d152da8_672a_11ea_979e_40f02f124a90row2_col2\" class=\"data row2 col2\" >1.000000</td>\n",
       "                        <td id=\"T_8d152da8_672a_11ea_979e_40f02f124a90row2_col3\" class=\"data row2 col3\" >0.027934</td>\n",
       "                        <td id=\"T_8d152da8_672a_11ea_979e_40f02f124a90row2_col4\" class=\"data row2 col4\" >0.000736</td>\n",
       "            </tr>\n",
       "            <tr>\n",
       "                        <th id=\"T_8d152da8_672a_11ea_979e_40f02f124a90level0_row3\" class=\"row_heading level0 row3\" >clouds_all</th>\n",
       "                        <td id=\"T_8d152da8_672a_11ea_979e_40f02f124a90row3_col0\" class=\"data row3 col0\" >0.101968</td>\n",
       "                        <td id=\"T_8d152da8_672a_11ea_979e_40f02f124a90row3_col1\" class=\"data row3 col1\" >0.004818</td>\n",
       "                        <td id=\"T_8d152da8_672a_11ea_979e_40f02f124a90row3_col2\" class=\"data row3 col2\" >0.027934</td>\n",
       "                        <td id=\"T_8d152da8_672a_11ea_979e_40f02f124a90row3_col3\" class=\"data row3 col3\" >1.000000</td>\n",
       "                        <td id=\"T_8d152da8_672a_11ea_979e_40f02f124a90row3_col4\" class=\"data row3 col4\" >0.067138</td>\n",
       "            </tr>\n",
       "            <tr>\n",
       "                        <th id=\"T_8d152da8_672a_11ea_979e_40f02f124a90level0_row4\" class=\"row_heading level0 row4\" >traffic_volume</th>\n",
       "                        <td id=\"T_8d152da8_672a_11ea_979e_40f02f124a90row4_col0\" class=\"data row4 col0\" >0.130161</td>\n",
       "                        <td id=\"T_8d152da8_672a_11ea_979e_40f02f124a90row4_col1\" class=\"data row4 col1\" >0.004715</td>\n",
       "                        <td id=\"T_8d152da8_672a_11ea_979e_40f02f124a90row4_col2\" class=\"data row4 col2\" >0.000736</td>\n",
       "                        <td id=\"T_8d152da8_672a_11ea_979e_40f02f124a90row4_col3\" class=\"data row4 col3\" >0.067138</td>\n",
       "                        <td id=\"T_8d152da8_672a_11ea_979e_40f02f124a90row4_col4\" class=\"data row4 col4\" >1.000000</td>\n",
       "            </tr>\n",
       "    </tbody></table>"
      ],
      "text/plain": [
       "<pandas.io.formats.style.Styler at 0x7f1d3efea5f8>"
      ]
     },
     "execution_count": 4,
     "metadata": {},
     "output_type": "execute_result"
    }
   ],
   "source": [
    "corr_matrix = df.corr().abs()\n",
    "corr_matrix.style.background_gradient(cmap = 'coolwarm')"
   ]
  },
  {
   "cell_type": "code",
   "execution_count": 5,
   "metadata": {},
   "outputs": [
    {
     "data": {
      "text/plain": [
       "282.45"
      ]
     },
     "execution_count": 5,
     "metadata": {},
     "output_type": "execute_result"
    },
    {
     "data": {
      "image/png": "[encoded data removed]",
      "text/plain": [
       "<Figure size 432x288 with 1 Axes>"
      ]
     },
     "metadata": {
      "needs_background": "light"
     },
     "output_type": "display_data"
    }
   ],
   "source": [
    "sns.boxplot(data=df[\"temp\"])\n",
    "df[\"temp\"].median()"
   ]
  },
  {
   "cell_type": "code",
   "execution_count": 6,
   "metadata": {},
   "outputs": [
    {
     "name": "stdout",
     "output_type": "stream",
     "text": [
      "0.0\n",
      "0.0\n",
      "0.0\n",
      "0.0\n",
      "0.0\n",
      "0.0\n",
      "0.0\n",
      "0.0\n",
      "0.0\n",
      "0.0\n"
     ]
    }
   ],
   "source": [
    "mediana = df[\"temp\"].median()\n",
    "for index, row in df.iterrows():\n",
    "    if row['temp'] < 50:\n",
    "        print(row['temp'])\n",
    "        \n",
    "\n"
   ]
  },
  {
   "cell_type": "code",
   "execution_count": 7,
   "metadata": {},
   "outputs": [],
   "source": [
    "mediana = df[\"temp\"].median()\n",
    "df['temp'].replace(to_replace = 0.0, value = mediana, inplace=True)"
   ]
  },
  {
   "cell_type": "code",
   "execution_count": 8,
   "metadata": {},
   "outputs": [
    {
     "data": {
      "text/plain": [
       "<matplotlib.axes._subplots.AxesSubplot at 0x7f1d121eeba8>"
      ]
     },
     "execution_count": 8,
     "metadata": {},
     "output_type": "execute_result"
    },
    {
     "data": {
      "image/png": "[encoded data removed]",
      "text/plain": [
       "<Figure size 432x288 with 1 Axes>"
      ]
     },
     "metadata": {
      "needs_background": "light"
     },
     "output_type": "display_data"
    }
   ],
   "source": [
    "sns.boxplot(data=df[\"temp\"])"
   ]
  },
  {
   "cell_type": "code",
   "execution_count": 9,
   "metadata": {},
   "outputs": [
    {
     "data": {
      "text/plain": [
       "<matplotlib.axes._subplots.AxesSubplot at 0x7f1d0f9b7780>"
      ]
     },
     "execution_count": 9,
     "metadata": {},
     "output_type": "execute_result"
    },
    {
     "data": {
      "image/png": "[encoded data removed]",
      "text/plain": [
       "<Figure size 432x288 with 1 Axes>"
      ]
     },
     "metadata": {
      "needs_background": "light"
     },
     "output_type": "display_data"
    }
   ],
   "source": [
    "sns.boxplot(data=df[\"rain_1h\"])\n"
   ]
  },
  {
   "cell_type": "code",
   "execution_count": 10,
   "metadata": {},
   "outputs": [
    {
     "name": "stdout",
     "output_type": "stream",
     "text": [
      "9831.3\n"
     ]
    }
   ],
   "source": [
    "mediana = df[\"rain_1h\"].median()\n",
    "for index, row in df.iterrows():\n",
    "    if row['rain_1h'] > 8000:\n",
    "        print(row['rain_1h'])"
   ]
  },
  {
   "cell_type": "code",
   "execution_count": 11,
   "metadata": {},
   "outputs": [],
   "source": [
    "mediana = df[\"rain_1h\"].median()\n",
    "df['rain_1h'].replace(to_replace = 9831.3, value = mediana, inplace=True)"
   ]
  },
  {
   "cell_type": "code",
   "execution_count": 12,
   "metadata": {},
   "outputs": [
    {
     "name": "stdout",
     "output_type": "stream",
     "text": [
      "None                         48126\n",
      "Labor Day                        7\n",
      "Christmas Day                    6\n",
      "Thanksgiving Day                 6\n",
      "New Years Day                    6\n",
      "Martin Luther King Jr Day        6\n",
      "Washingtons Birthday             5\n",
      "Columbus Day                     5\n",
      "State Fair                       5\n",
      "Independence Day                 5\n",
      "Veterans Day                     5\n",
      "Memorial Day                     5\n",
      "Name: holiday, dtype: int64\n",
      "Clouds          15158\n",
      "Clear           13384\n",
      "Mist             5949\n",
      "Rain             5672\n",
      "Snow             2875\n",
      "Drizzle          1820\n",
      "Haze             1360\n",
      "Thunderstorm     1033\n",
      "Fog               912\n",
      "Smoke              20\n",
      "Squall              4\n",
      "Name: weather_main, dtype: int64\n",
      "sky is clear                           11659\n",
      "mist                                    5949\n",
      "overcast clouds                         5079\n",
      "broken clouds                           4663\n",
      "scattered clouds                        3460\n",
      "light rain                              3372\n",
      "few clouds                              1956\n",
      "light snow                              1945\n",
      "Sky is Clear                            1725\n",
      "moderate rain                           1664\n",
      "haze                                    1360\n",
      "light intensity drizzle                 1099\n",
      "fog                                      912\n",
      "proximity thunderstorm                   673\n",
      "drizzle                                  651\n",
      "heavy snow                               616\n",
      "heavy intensity rain                     467\n",
      "snow                                     293\n",
      "proximity shower rain                    136\n",
      "thunderstorm                             124\n",
      "heavy intensity drizzle                   64\n",
      "thunderstorm with heavy rain              63\n",
      "thunderstorm with light rain              54\n",
      "proximity thunderstorm with rain          52\n",
      "thunderstorm with rain                    37\n",
      "smoke                                     20\n",
      "very heavy rain                           18\n",
      "thunderstorm with light drizzle           15\n",
      "light intensity shower rain               13\n",
      "proximity thunderstorm with drizzle       13\n",
      "light shower snow                         11\n",
      "shower drizzle                             6\n",
      "light rain and snow                        6\n",
      "SQUALLS                                    4\n",
      "sleet                                      3\n",
      "thunderstorm with drizzle                  2\n",
      "freezing rain                              2\n",
      "shower snow                                1\n",
      "Name: weather_description, dtype: int64\n"
     ]
    }
   ],
   "source": [
    "print(df['holiday'].value_counts())\n",
    "print(df['weather_main'].value_counts())\n",
    "print(df['weather_description'].value_counts())"
   ]
  },
  {
   "cell_type": "code",
   "execution_count": 13,
   "metadata": {},
   "outputs": [],
   "source": [
    "for i in df['holiday']:\n",
    "    df['holiday'].replace(to_replace = 'None', value = 0, inplace=True)\n",
    "    df['holiday'].replace(to_replace = 'Labor Day', value = 1, inplace=True)\n",
    "    df['holiday'].replace(to_replace = 'Martin Luther King Jr Day', value = 2, inplace=True)\n",
    "    df['holiday'].replace(to_replace = 'Christmas Day', value = 3, inplace=True)\n",
    "    df['holiday'].replace(to_replace = 'Thanksgiving Day', value = 4, inplace=True)\n",
    "    df['holiday'].replace(to_replace = 'New Years Day', value = 5, inplace=True)\n",
    "    df['holiday'].replace(to_replace = 'Washingtons Birthday', value = 6, inplace=True)\n",
    "    df['holiday'].replace(to_replace = 'Memorial Day', value = 7, inplace=True)\n",
    "    df['holiday'].replace(to_replace = 'Independence Day', value = 8, inplace=True)\n",
    "    df['holiday'].replace(to_replace = 'State Fair', value = 9, inplace=True)\n",
    "    df['holiday'].replace(to_replace = 'Columbus Day', value = 10, inplace=True)\n",
    "    df['holiday'].replace(to_replace = 'Veterans Day', value = 11, inplace=True)\n",
    "    \n",
    " "
   ]
  },
  {
   "cell_type": "code",
   "execution_count": 14,
   "metadata": {},
   "outputs": [],
   "source": [
    "for i in df['weather_main']:\n",
    "    df['weather_main'].replace(to_replace = 'Clouds', value = 0, inplace=True)\n",
    "    df['weather_main'].replace(to_replace = 'Clear', value = 1, inplace=True)\n",
    "    df['weather_main'].replace(to_replace = 'Mist', value = 2, inplace=True)\n",
    "    df['weather_main'].replace(to_replace = 'Rain', value = 3, inplace=True)\n",
    "    df['weather_main'].replace(to_replace = 'Snow', value = 4, inplace=True)\n",
    "    df['weather_main'].replace(to_replace = 'Drizzle', value = 5, inplace=True)\n",
    "    df['weather_main'].replace(to_replace = 'Haze', value = 6, inplace=True)\n",
    "    df['weather_main'].replace(to_replace = 'Thunderstorm', value = 7, inplace=True)\n",
    "    df['weather_main'].replace(to_replace = 'Fog', value = 8, inplace=True)\n",
    "    df['weather_main'].replace(to_replace = 'Smoke', value = 9, inplace=True)\n",
    "    df['weather_main'].replace(to_replace = 'Squall', value = 10, inplace=True)\n",
    "    \n"
   ]
  },
  {
   "cell_type": "code",
   "execution_count": 15,
   "metadata": {},
   "outputs": [],
   "source": [
    "\n",
    "for i in df['weather_description']:\n",
    "    df['weather_description'].replace(to_replace = 'sky is clear', value = 0, inplace=True)\n",
    "    df['weather_description'].replace(to_replace = 'mist', value = 1, inplace=True)\n",
    "    df['weather_description'].replace(to_replace = 'overcast clouds', value = 2, inplace=True)\n",
    "    df['weather_description'].replace(to_replace = 'broken clouds', value = 3, inplace=True)\n",
    "    df['weather_description'].replace(to_replace = 'scattered clouds', value = 4, inplace=True)\n",
    "    df['weather_description'].replace(to_replace = 'light rain', value = 5, inplace=True)\n",
    "    df['weather_description'].replace(to_replace = 'few clouds', value = 6, inplace=True)\n",
    "    df['weather_description'].replace(to_replace = 'light snow', value = 7, inplace=True)\n",
    "    df['weather_description'].replace(to_replace = 'Sky is Clear', value = 8, inplace=True)\n",
    "    df['weather_description'].replace(to_replace = 'moderate rain', value = 9, inplace=True)\n",
    "    df['weather_description'].replace(to_replace = 'haze', value = 10, inplace=True)\n",
    "    df['weather_description'].replace(to_replace = 'light intensity drizzle', value = 11, inplace=True)\n",
    "    df['weather_description'].replace(to_replace = 'fog', value = 12, inplace=True)\n",
    "    df['weather_description'].replace(to_replace = 'proximity thunderstorm', value = 13, inplace=True)\n",
    "    df['weather_description'].replace(to_replace = 'drizzle', value = 14, inplace=True)\n",
    "    df['weather_description'].replace(to_replace = 'heavy snow', value = 15, inplace=True)\n",
    "    df['weather_description'].replace(to_replace = 'heavy intensity rain', value = 16, inplace=True)\n",
    "    df['weather_description'].replace(to_replace = 'snow', value = 17, inplace=True)\n",
    "    df['weather_description'].replace(to_replace = 'proximity shower rain', value = 18, inplace=True)\n",
    "    df['weather_description'].replace(to_replace = 'thunderstorm', value = 19, inplace=True)\n",
    "    df['weather_description'].replace(to_replace = 'heavy intensity drizzle', value = 20, inplace=True)\n",
    "    df['weather_description'].replace(to_replace = 'thunderstorm with heavy rain', value = 21, inplace=True)\n",
    "    df['weather_description'].replace(to_replace = 'thunderstorm with light rain', value = 22, inplace=True)\n",
    "    df['weather_description'].replace(to_replace = 'proximity thunderstorm with rain', value = 23, inplace=True)\n",
    "    df['weather_description'].replace(to_replace = 'thunderstorm with rain', value = 24, inplace=True)\n",
    "    df['weather_description'].replace(to_replace = 'smoke', value = 25, inplace=True)\n",
    "    df['weather_description'].replace(to_replace = 'very heavy rain', value = 26, inplace=True)\n",
    "    df['weather_description'].replace(to_replace = 'thunderstorm with light drizzle', value = 27, inplace=True)\n",
    "    df['weather_description'].replace(to_replace = 'proximity thunderstorm with drizzle', value = 28, inplace=True)\n",
    "    df['weather_description'].replace(to_replace = 'light intensity shower rain', value = 29, inplace=True)\n",
    "    df['weather_description'].replace(to_replace = 'light shower snow', value = 30, inplace=True)\n",
    "    df['weather_description'].replace(to_replace = 'light rain and snow', value = 31, inplace=True)\n",
    "    df['weather_description'].replace(to_replace = 'shower drizzle', value = 32, inplace=True)\n",
    "    df['weather_description'].replace(to_replace = 'SQUALLS', value = 33, inplace=True)\n",
    "    df['weather_description'].replace(to_replace = 'sleet', value = 34, inplace=True)\n",
    "    df['weather_description'].replace(to_replace = 'freezing rain', value = 35, inplace=True)\n",
    "    df['weather_description'].replace(to_replace = 'thunderstorm with drizzle', value = 36, inplace=True)\n",
    "    df['weather_description'].replace(to_replace = 'shower snow', value = 37, inplace=True)"
   ]
  },
  {
   "cell_type": "code",
   "execution_count": 16,
   "metadata": {},
   "outputs": [
    {
     "name": "stdout",
     "output_type": "stream",
     "text": [
      "0     48126\n",
      "1         7\n",
      "5         6\n",
      "4         6\n",
      "3         6\n",
      "2         6\n",
      "11        5\n",
      "10        5\n",
      "9         5\n",
      "8         5\n",
      "7         5\n",
      "6         5\n",
      "Name: holiday, dtype: int64\n",
      "0     15158\n",
      "1     13384\n",
      "2      5949\n",
      "3      5672\n",
      "4      2875\n",
      "5      1820\n",
      "6      1360\n",
      "7      1033\n",
      "8       912\n",
      "9        20\n",
      "10        4\n",
      "Name: weather_main, dtype: int64\n",
      "0     11659\n",
      "1      5949\n",
      "2      5079\n",
      "3      4663\n",
      "4      3460\n",
      "5      3372\n",
      "6      1956\n",
      "7      1945\n",
      "8      1725\n",
      "9      1664\n",
      "10     1360\n",
      "11     1099\n",
      "12      912\n",
      "13      673\n",
      "14      651\n",
      "15      616\n",
      "16      467\n",
      "17      293\n",
      "18      136\n",
      "19      124\n",
      "20       64\n",
      "21       63\n",
      "22       54\n",
      "23       52\n",
      "24       37\n",
      "25       20\n",
      "26       18\n",
      "27       15\n",
      "28       13\n",
      "29       13\n",
      "30       11\n",
      "32        6\n",
      "31        6\n",
      "33        4\n",
      "34        3\n",
      "36        2\n",
      "35        2\n",
      "37        1\n",
      "Name: weather_description, dtype: int64\n"
     ]
    }
   ],
   "source": [
    "print(df['holiday'].value_counts())\n",
    "print(df['weather_main'].value_counts())\n",
    "print(df['weather_description'].value_counts())"
   ]
  },
  {
   "cell_type": "code",
   "execution_count": 17,
   "metadata": {},
   "outputs": [],
   "source": [
    "\n",
    "\n",
    "#NORMALIZACAO\n",
    "col = ['temp', 'rain_1h', 'snow_1h', 'clouds_all', 'weather_description', 'weather_main', 'holiday','traffic_volume' ]\n",
    "df_numeric = df[col]\n",
    "# Normalize all of the numeric columns\n",
    "df_normalized = (df_numeric - df_numeric.mean()) / df_numeric.std()\n",
    "dfbu = df\n",
    "df = df_normalized\n"
   ]
  },
  {
   "cell_type": "code",
   "execution_count": 18,
   "metadata": {},
   "outputs": [
    {
     "data": {
      "text/plain": [
       "LinearRegression(copy_X=True, fit_intercept=True, n_jobs=None, normalize=False)"
      ]
     },
     "execution_count": 18,
     "metadata": {},
     "output_type": "execute_result"
    }
   ],
   "source": [
    "from sklearn.model_selection import train_test_split \n",
    "from sklearn.linear_model import LinearRegression\n",
    "from sklearn import metrics\n",
    "X = df[['temp', 'rain_1h', 'snow_1h', 'clouds_all', 'weather_description', 'weather_main', 'holiday']].values\n",
    "y = df['traffic_volume'].values\n",
    "X_train, X_test, y_train, y_test = train_test_split(X, y, test_size=0.3, random_state=0)\n",
    "regressor = LinearRegression()  \n",
    "regressor.fit(X_train, y_train)\n"
   ]
  },
  {
   "cell_type": "code",
   "execution_count": 19,
   "metadata": {},
   "outputs": [
    {
     "data": {
      "text/plain": [
       "0.9650049503192444"
      ]
     },
     "execution_count": 19,
     "metadata": {},
     "output_type": "execute_result"
    }
   ],
   "source": [
    "y_pred = regressor.predict(X_test)\n",
    "mse = (((y_pred - y_test) ** 2).sum()) / len(y_pred)\n",
    "mse"
   ]
  },
  {
   "cell_type": "code",
   "execution_count": 20,
   "metadata": {},
   "outputs": [
    {
     "data": {
      "text/plain": [
       "LinearRegression(copy_X=True, fit_intercept=True, n_jobs=None, normalize=False)"
      ]
     },
     "execution_count": 20,
     "metadata": {},
     "output_type": "execute_result"
    }
   ],
   "source": [
    "from sklearn.preprocessing import PolynomialFeatures\n",
    "X_ = PolynomialFeatures(degree=2, include_bias=False).fit_transform(X)\n",
    "X_train, X_test, y_train, y_test = train_test_split(X_, y, test_size=0.3, random_state=0)\n",
    "model = LinearRegression()\n",
    "model.fit(X_train, y_train)\n"
   ]
  },
  {
   "cell_type": "code",
   "execution_count": 21,
   "metadata": {},
   "outputs": [
    {
     "data": {
      "text/plain": [
       "0.9571187731696689"
      ]
     },
     "execution_count": 21,
     "metadata": {},
     "output_type": "execute_result"
    }
   ],
   "source": [
    "\n",
    "y_pred = model.predict(X_test)\n",
    "mse = (((y_pred - y_test) ** 2).sum()) / len(y_pred)\n",
    "mse"
   ]
  },
  {
   "cell_type": "code",
   "execution_count": 22,
   "metadata": {
    "scrolled": true
   },
   "outputs": [
    {
     "name": "stdout",
     "output_type": "stream",
     "text": [
      "0.9623098078824827\n",
      "0.9656256237591683\n",
      "0.9542628767187414\n",
      "0.9594479096968328\n",
      "0.956673489091355\n",
      "0.9856812621579275\n",
      "0.9520967416697148\n",
      "0.9672976848427485\n",
      "0.9474721284682888\n",
      "0.9862841807425324\n"
     ]
    }
   ],
   "source": [
    "from sklearn.model_selection import KFold\n",
    "kf = KFold(n_splits = 10, shuffle = True, random_state = 2)\n",
    "for result in kf.split(df):\n",
    "    train = df.iloc[result[0]]\n",
    "    test =  df.iloc[result[1]]\n",
    "    X_train = train[['temp', 'rain_1h', 'snow_1h', 'clouds_all', 'weather_description', 'weather_main', 'holiday']].values\n",
    "    y_train = train['traffic_volume'].values\n",
    "    X_test = test[['temp', 'rain_1h', 'snow_1h', 'clouds_all', 'weather_description', 'weather_main', 'holiday']].values\n",
    "    y_test = test['traffic_volume'].values\n",
    "    regressor = LinearRegression()  \n",
    "    regressor.fit(X_train, y_train)\n",
    "    y_pred = regressor.predict(X_test)\n",
    "    mse = (((y_pred - y_test) ** 2).sum()) / len(y_pred)\n",
    "    print(mse)"
   ]
  },
  {
   "cell_type": "code",
   "execution_count": 23,
   "metadata": {},
   "outputs": [
    {
     "name": "stdout",
     "output_type": "stream",
     "text": [
      "0.9476167022484642\n",
      "0.9547193543878264\n",
      "0.9423320702378434\n",
      "0.9493070290675358\n",
      "0.9490648017891293\n",
      "0.9711930591991383\n",
      "0.9377106054444985\n",
      "0.9590007931738508\n",
      "0.9366447947696415\n",
      "0.9760601056362037\n"
     ]
    }
   ],
   "source": [
    "kf = KFold(n_splits = 10, shuffle = True, random_state = 2)\n",
    "for result in kf.split(df):\n",
    "    train = df.iloc[result[0]]\n",
    "    test =  df.iloc[result[1]]\n",
    "    X_train = train[['temp', 'rain_1h', 'snow_1h', 'clouds_all', 'weather_description', 'weather_main', 'holiday']].values\n",
    "    y_train = train['traffic_volume'].values\n",
    "    X_test = test[['temp', 'rain_1h', 'snow_1h', 'clouds_all', 'weather_description', 'weather_main', 'holiday']].values\n",
    "    y_test = test['traffic_volume'].values\n",
    "    X_train_ = PolynomialFeatures(degree=2, include_bias=False).fit_transform(X_train)\n",
    "    X_test_ = PolynomialFeatures(degree=2, include_bias=False).fit_transform(X_test)\n",
    "    regressor = LinearRegression()  \n",
    "    regressor.fit(X_train_, y_train)\n",
    "    y_pred = regressor.predict(X_test_)\n",
    "    mse = (((y_pred - y_test) ** 2).sum()) / len(y_pred)\n",
    "    print(mse)"
   ]
  },
  {
   "cell_type": "code",
   "execution_count": null,
   "metadata": {},
   "outputs": [],
   "source": []
  },
  {
   "cell_type": "code",
   "execution_count": null,
   "metadata": {},
   "outputs": [],
   "source": []
  }
 ],
 "metadata": {
  "kernelspec": {
   "display_name": "Python 3",
   "language": "python",
   "name": "python3"
  },
  "language_info": {
   "codemirror_mode": {
    "name": "ipython",
    "version": 3
   },
   "file_extension": ".py",
   "mimetype": "text/x-python",
   "name": "python",
   "nbconvert_exporter": "python",
   "pygments_lexer": "ipython3",
   "version": "3.6.9"
  }
 },
 "nbformat": 4,
 "nbformat_minor": 4
}
