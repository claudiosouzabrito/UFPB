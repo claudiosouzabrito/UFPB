{
 "cells": [
  {
   "cell_type": "code",
   "execution_count": 1,
   "metadata": {},
   "outputs": [],
   "source": [
    "arq = []\n",
    "f = open(\"arq.txt\", \"r\")\n",
    "contfile = 0\n",
    "q = f.read()\n",
    "#print(q)\n",
    "for i in q:\n",
    "    contfile = contfile + 1\n",
    "#print(contfile)\n",
    "f = open(\"arq.txt\", \"r\")\n",
    "for i in range(contfile-1):\n",
    "    q = f.readline()\n",
    "   # print(q)\n",
    "    if q != ' ' and q != '\\n' and q != '':\n",
    "        arq.append(int(q))"
   ]
  },
  {
   "cell_type": "code",
   "execution_count": 2,
   "metadata": {},
   "outputs": [],
   "source": [
    "#print(arq)\n",
    "\n",
    "\n",
    "tam = arq.pop(0)\n",
    "#print(tam)\n",
    "#print(type(tam))\n",
    "#arq"
   ]
  },
  {
   "cell_type": "code",
   "execution_count": 3,
   "metadata": {},
   "outputs": [],
   "source": [
    "quadros = []\n",
    "faltas = 0\n",
    "cont = 0\n",
    "while len(arq) != 0 :\n",
    " #   print(\"quadros: \")\n",
    "#    print(quadros)\n",
    "    if (len(quadros) < tam) and not(arq[0] in quadros):\n",
    "   #     print(\"falta de pagina: %d nao estava la\" %arq[0])\n",
    "   #     print(\"entrando: %d\" %arq[0])\n",
    "        quadros.append(arq.pop(0))\n",
    "        faltas = faltas + 1\n",
    "    else:\n",
    "        if cont == tam: \n",
    "            cont = 0\n",
    "   #         print(\"%d -> 0\" %tam)\n",
    "        if arq[0] in quadros:\n",
    "    #        print(\"%d ja ta\" %arq[0])\n",
    "            arq.pop(0)\n",
    "        else:\n",
    "     #       print(\"falta de pagina: %d nao estava la\" %arq[0])\n",
    "            quadros[cont] = arq.pop(0)\n",
    "            cont = cont + 1\n",
    "            faltas = faltas + 1\n",
    "    "
   ]
  },
  {
   "cell_type": "code",
   "execution_count": 4,
   "metadata": {},
   "outputs": [
    {
     "name": "stdout",
     "output_type": "stream",
     "text": [
      "FIFO 3\n"
     ]
    }
   ],
   "source": [
    "print(\"FIFO %d\" %faltas)"
   ]
  },
  {
   "cell_type": "code",
   "execution_count": 5,
   "metadata": {},
   "outputs": [],
   "source": [
    "f = open(\"arq.txt\", \"r\")\n",
    "contfile = 0\n",
    "q = f.read()\n",
    "#print(q)\n",
    "for i in q:\n",
    "    contfile = contfile + 1\n",
    "#print(contfile)\n",
    "f = open(\"arq.txt\", \"r\")\n",
    "for i in range(contfile-1):\n",
    "    q = f.readline()\n",
    "#    print(q)\n",
    "    if q != ' ' and q != '\\n' and q != '':\n",
    "        arq.append(int(q))\n",
    "\n",
    "#print(arq)\n",
    "\n",
    "\n",
    "tam = arq.pop(0)\n",
    "#print(tam)\n",
    "#print(type(tam))\n",
    "#arq"
   ]
  },
  {
   "cell_type": "code",
   "execution_count": 6,
   "metadata": {
    "scrolled": true
   },
   "outputs": [],
   "source": [
    "quadros = []\n",
    "veri = []\n",
    "faltas = 0\n",
    "cont = 0\n",
    "maxi = 0\n",
    "posi = 0\n",
    "while len(arq) != 0 :\n",
    "  #  print(\"quadros: \")\n",
    "  #  print(quadros)\n",
    "    if (len(quadros) < tam) and not(arq[0] in quadros):\n",
    "  #      print(\"falta de pagina: %d nao estava la\" %arq[0])\n",
    "  #      print(\"entrando: %d\" %arq[0])\n",
    "        quadros.append(arq.pop(0))\n",
    "        faltas = faltas + 1\n",
    "    else:\n",
    "        if arq[0] in quadros:\n",
    "   #         print(\"%d ja ta\" %arq[0])\n",
    "            arq.pop(0)\n",
    "        else:\n",
    "    #        print(\"falta de pagina: %d nao estava la\" %arq[0])\n",
    "     #       print(len(arq))\n",
    "            for i in quadros:\n",
    "                for j in arq:\n",
    "                    if i == j:\n",
    "                        break\n",
    "                    cont = cont + 1\n",
    "                veri.append(cont)\n",
    "                cont = 0\n",
    "      #      print(veri)\n",
    "            for i in veri:\n",
    "                if i > maxi:\n",
    "                    maxi = i\n",
    "                    posi = cont\n",
    "                cont = cont + 1\n",
    "            maxi = 0\n",
    "            cont = 0\n",
    "            quadros[posi] = arq.pop(0)\n",
    "            faltas = faltas + 1\n",
    "            del veri[0:len(veri)]"
   ]
  },
  {
   "cell_type": "code",
   "execution_count": 7,
   "metadata": {},
   "outputs": [
    {
     "name": "stdout",
     "output_type": "stream",
     "text": [
      "OTM 3\n"
     ]
    }
   ],
   "source": [
    "print(\"OTM %d\" %faltas)\n"
   ]
  },
  {
   "cell_type": "code",
   "execution_count": 8,
   "metadata": {},
   "outputs": [
    {
     "name": "stdout",
     "output_type": "stream",
     "text": [
      "3\n",
      "1\n",
      "2\n",
      "2\n",
      "2\n",
      "2\n",
      "2\n",
      "3\n",
      "\n",
      "16\n",
      "3\n",
      "\n",
      "1\n",
      "\n",
      "2\n",
      "\n",
      "2\n",
      "\n",
      "2\n",
      "\n",
      "2\n",
      "\n",
      "2\n",
      "\n",
      "3\n",
      "\n",
      "\n",
      "\n",
      "\n",
      "\n",
      "\n",
      "\n",
      "\n",
      "[3, 1, 2, 2, 2, 2, 2, 3]\n",
      "3\n",
      "<class 'int'>\n"
     ]
    },
    {
     "data": {
      "text/plain": [
       "[1, 2, 2, 2, 2, 2, 3]"
      ]
     },
     "execution_count": 8,
     "metadata": {},
     "output_type": "execute_result"
    }
   ],
   "source": [
    "f = open(\"arq.txt\", \"r\")\n",
    "contfile = 0\n",
    "q = f.read()\n",
    "#print(q)\n",
    "for i in q:\n",
    "    contfile = contfile + 1\n",
    "print(contfile)\n",
    "f = open(\"arq.txt\", \"r\")\n",
    "for i in range(contfile-1):\n",
    "    q = f.readline()\n",
    " #   print(q)\n",
    "    if q != ' ' and q != '\\n' and q != '':\n",
    "        arq.append(int(q))\n",
    "\n",
    "#print(arq)\n",
    "\n",
    "\n",
    "tam = arq.pop(0)\n",
    "#print(tam)\n",
    "print(type(tam))\n",
    "arq"
   ]
  },
  {
   "cell_type": "code",
   "execution_count": 9,
   "metadata": {},
   "outputs": [
    {
     "name": "stdout",
     "output_type": "stream",
     "text": [
      "quadros: \n",
      "[]\n",
      "[]\n",
      "falta de pagina: 1 nao estava la\n",
      "entrando: 1\n",
      "quadros: \n",
      "[1]\n",
      "[1]\n",
      "falta de pagina: 2 nao estava la\n",
      "entrando: 2\n",
      "quadros: \n",
      "[1, 2]\n",
      "[2, 1]\n",
      "2 ja ta\n",
      "quadros: \n",
      "[1, 2]\n",
      "[3, 1]\n",
      "2 ja ta\n",
      "quadros: \n",
      "[1, 2]\n",
      "[4, 1]\n",
      "2 ja ta\n",
      "quadros: \n",
      "[1, 2]\n",
      "[5, 1]\n",
      "2 ja ta\n",
      "quadros: \n",
      "[1, 2]\n",
      "[6, 1]\n",
      "falta de pagina: 3 nao estava la\n",
      "entrando: 3\n"
     ]
    }
   ],
   "source": [
    "quadros = []\n",
    "veri = []\n",
    "faltas = 0\n",
    "cont = 0\n",
    "maxi = 0\n",
    "posi = 0\n",
    "while len(arq) != 0 :\n",
    "    print(\"quadros: \")\n",
    "    print(quadros)\n",
    "    print(veri)\n",
    "    if (len(quadros) < tam) and not(arq[0] in quadros):\n",
    "        print(\"falta de pagina: %d nao estava la\" %arq[0])\n",
    "        print(\"entrando: %d\" %arq[0])\n",
    "        veri.append(0)\n",
    "        quadros.append(arq.pop(0))\n",
    "        faltas = faltas + 1\n",
    "    else:\n",
    "        if arq[0] in quadros:\n",
    "            print(\"%d ja ta\" %arq[0])\n",
    "            for i in quadros:\n",
    "                if i == arq[0]:\n",
    "                    break\n",
    "                else: cont = cont + 1\n",
    "            arq.pop(0)\n",
    "            veri[cont] = 0\n",
    "            cont = 0\n",
    "        else:\n",
    "            print(\"falta de pagina: %d nao estava la\" %arq[0])\n",
    "            for i in veri:\n",
    "                if i > maxi:\n",
    "                    maxi = i\n",
    "                    posi = cont\n",
    "                cont = cont + 1\n",
    "            maxi = 0\n",
    "            cont = 0\n",
    "            quadros[posi] = arq.pop(0)\n",
    "            veri[posi] = 0\n",
    "            faltas = faltas + 1\n",
    "    for i in veri: \n",
    "        veri[cont] = veri[cont] + 1\n",
    "        cont = cont + 1\n",
    "    cont = 0\n"
   ]
  },
  {
   "cell_type": "code",
   "execution_count": 10,
   "metadata": {},
   "outputs": [
    {
     "name": "stdout",
     "output_type": "stream",
     "text": [
      "LRU 3\n"
     ]
    }
   ],
   "source": [
    "print(\"LRU %d\" %faltas)"
   ]
  },
  {
   "cell_type": "code",
   "execution_count": null,
   "metadata": {},
   "outputs": [],
   "source": []
  },
  {
   "cell_type": "code",
   "execution_count": null,
   "metadata": {},
   "outputs": [],
   "source": []
  }
 ],
 "metadata": {
  "kernelspec": {
   "display_name": "Python 3",
   "language": "python",
   "name": "python3"
  },
  "language_info": {
   "codemirror_mode": {
    "name": "ipython",
    "version": 3
   },
   "file_extension": ".py",
   "mimetype": "text/x-python",
   "name": "python",
   "nbconvert_exporter": "python",
   "pygments_lexer": "ipython3",
   "version": "3.6.9"
  }
 },
 "nbformat": 4,
 "nbformat_minor": 4
}
